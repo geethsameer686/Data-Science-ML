{
 "cells": [
  {
   "cell_type": "markdown",
   "metadata": {},
   "source": [
    "# Amazon Fine Food Review Analysis using Logistic Regression"
   ]
  },
  {
   "cell_type": "raw",
   "metadata": {},
   "source": [
    "Objective : Given a dataset, find  \n",
    "    * optimal lambda using k-fold cross validation.\n",
    "    * optimal lambda using GridSearch and RandomSearch for L1 and L2 penalties.\n",
    "    * Sparsity using L1 penalty.\n",
    "    * Checking multicollinearity.\n",
    "    for all the feature vectorizations like Bag of Words(BOW), TF-IDF,Avg W2v and Avg TF-IDF"
   ]
  },
  {
   "cell_type": "code",
   "execution_count": 3,
   "metadata": {},
   "outputs": [],
   "source": [
    "%matplotlib inline\n",
    "\n",
    "import sqlite3\n",
    "import pandas as pd\n",
    "import seaborn as sn\n",
    "import numpy as np\n",
    "import nltk\n",
    "import string\n",
    "import matplotlib.pyplot as plt\n",
    "import seaborn as sns\n",
    "from sklearn.feature_extraction.text import TfidfTransformer\n",
    "from sklearn.feature_extraction.text import TfidfVectorizer\n",
    "from sklearn.feature_extraction.text import CountVectorizer\n",
    "from sklearn.metrics import confusion_matrix\n",
    "from sklearn import metrics\n",
    "from sklearn.metrics import roc_curve, auc\n",
    "from nltk.stem.porter import PorterStemmer\n",
    "from sklearn.preprocessing import StandardScaler\n",
    "from sklearn.cross_validation import train_test_split\n",
    "from sklearn.neighbors import KNeighborsClassifier\n",
    "from sklearn.metrics import accuracy_score\n",
    "from sklearn.cross_validation import cross_val_score\n",
    "from collections import Counter\n",
    "from sklearn import cross_validation\n",
    "from sklearn.linear_model import LogisticRegression\n",
    "import warnings\n",
    "warnings.filterwarnings(\"ignore\")"
   ]
  },
  {
   "cell_type": "code",
   "execution_count": 4,
   "metadata": {
    "collapsed": true
   },
   "outputs": [],
   "source": [
    "# using the SQLite Table to read data.\n",
    "con = sqlite3.connect('final.sqlite') "
   ]
  },
  {
   "cell_type": "code",
   "execution_count": 5,
   "metadata": {},
   "outputs": [
    {
     "name": "stdout",
     "output_type": "stream",
     "text": [
      "positive    307061\n",
      "negative     57110\n",
      "Name: Score, dtype: int64\n"
     ]
    }
   ],
   "source": [
    "data = pd.read_sql_query(\"\"\"SELECT * FROM Reviews\"\"\", con)\n",
    "labels_count = data['Score'].value_counts()\n",
    "#labels = sorted_data['Score']\n",
    "print(labels_count)"
   ]
  },
  {
   "cell_type": "code",
   "execution_count": 6,
   "metadata": {},
   "outputs": [
    {
     "name": "stdout",
     "output_type": "stream",
     "text": [
      "(364171,)\n",
      "(364171, 12)\n"
     ]
    }
   ],
   "source": [
    "# TIme based sorting\n",
    "sorted_data=data.sort_values('Time', axis=0, ascending=True, inplace=False, kind='quicksort', na_position='last')\n",
    "labels = sorted_data['Score']\n",
    "print(labels.shape)\n",
    "print(sorted_data.shape)"
   ]
  },
  {
   "cell_type": "code",
   "execution_count": 7,
   "metadata": {},
   "outputs": [
    {
     "data": {
      "text/html": [
       "<div>\n",
       "<style>\n",
       "    .dataframe thead tr:only-child th {\n",
       "        text-align: right;\n",
       "    }\n",
       "\n",
       "    .dataframe thead th {\n",
       "        text-align: left;\n",
       "    }\n",
       "\n",
       "    .dataframe tbody tr th {\n",
       "        vertical-align: top;\n",
       "    }\n",
       "</style>\n",
       "<table border=\"1\" class=\"dataframe\">\n",
       "  <thead>\n",
       "    <tr style=\"text-align: right;\">\n",
       "      <th></th>\n",
       "      <th>index</th>\n",
       "      <th>Id</th>\n",
       "      <th>ProductId</th>\n",
       "      <th>UserId</th>\n",
       "      <th>ProfileName</th>\n",
       "      <th>HelpfulnessNumerator</th>\n",
       "      <th>HelpfulnessDenominator</th>\n",
       "      <th>Score</th>\n",
       "      <th>Time</th>\n",
       "      <th>Summary</th>\n",
       "      <th>Text</th>\n",
       "      <th>CleanedText</th>\n",
       "    </tr>\n",
       "  </thead>\n",
       "  <tbody>\n",
       "    <tr>\n",
       "      <th>0</th>\n",
       "      <td>138706</td>\n",
       "      <td>150524</td>\n",
       "      <td>0006641040</td>\n",
       "      <td>ACITT7DI6IDDL</td>\n",
       "      <td>shari zychinski</td>\n",
       "      <td>0</td>\n",
       "      <td>0</td>\n",
       "      <td>positive</td>\n",
       "      <td>939340800</td>\n",
       "      <td>EVERY book is educational</td>\n",
       "      <td>this witty little book makes my son laugh at l...</td>\n",
       "      <td>b'witti littl book make son laugh loud recit c...</td>\n",
       "    </tr>\n",
       "    <tr>\n",
       "      <th>30</th>\n",
       "      <td>138683</td>\n",
       "      <td>150501</td>\n",
       "      <td>0006641040</td>\n",
       "      <td>AJ46FKXOVC7NR</td>\n",
       "      <td>Nicholas A Mesiano</td>\n",
       "      <td>2</td>\n",
       "      <td>2</td>\n",
       "      <td>positive</td>\n",
       "      <td>940809600</td>\n",
       "      <td>This whole series is great way to spend time w...</td>\n",
       "      <td>I can remember seeing the show when it aired o...</td>\n",
       "      <td>b'rememb see show air televis year ago child s...</td>\n",
       "    </tr>\n",
       "    <tr>\n",
       "      <th>424</th>\n",
       "      <td>417839</td>\n",
       "      <td>451856</td>\n",
       "      <td>B00004CXX9</td>\n",
       "      <td>AIUWLEQ1ADEG5</td>\n",
       "      <td>Elizabeth Medina</td>\n",
       "      <td>0</td>\n",
       "      <td>0</td>\n",
       "      <td>positive</td>\n",
       "      <td>944092800</td>\n",
       "      <td>Entertainingl Funny!</td>\n",
       "      <td>Beetlejuice is a well written movie ..... ever...</td>\n",
       "      <td>b'beetlejuic well written movi everyth excel a...</td>\n",
       "    </tr>\n",
       "    <tr>\n",
       "      <th>330</th>\n",
       "      <td>346055</td>\n",
       "      <td>374359</td>\n",
       "      <td>B00004CI84</td>\n",
       "      <td>A344SMIA5JECGM</td>\n",
       "      <td>Vincent P. Ross</td>\n",
       "      <td>1</td>\n",
       "      <td>2</td>\n",
       "      <td>positive</td>\n",
       "      <td>944438400</td>\n",
       "      <td>A modern day fairy tale</td>\n",
       "      <td>A twist of rumplestiskin captured on film, sta...</td>\n",
       "      <td>b'twist rumplestiskin captur film star michael...</td>\n",
       "    </tr>\n",
       "    <tr>\n",
       "      <th>423</th>\n",
       "      <td>417838</td>\n",
       "      <td>451855</td>\n",
       "      <td>B00004CXX9</td>\n",
       "      <td>AJH6LUC1UT1ON</td>\n",
       "      <td>The Phantom of the Opera</td>\n",
       "      <td>0</td>\n",
       "      <td>0</td>\n",
       "      <td>positive</td>\n",
       "      <td>946857600</td>\n",
       "      <td>FANTASTIC!</td>\n",
       "      <td>Beetlejuice is an excellent and funny movie. K...</td>\n",
       "      <td>b'beetlejuic excel funni movi keaton hilari wa...</td>\n",
       "    </tr>\n",
       "  </tbody>\n",
       "</table>\n",
       "</div>"
      ],
      "text/plain": [
       "      index      Id   ProductId          UserId               ProfileName  \\\n",
       "0    138706  150524  0006641040   ACITT7DI6IDDL           shari zychinski   \n",
       "30   138683  150501  0006641040   AJ46FKXOVC7NR        Nicholas A Mesiano   \n",
       "424  417839  451856  B00004CXX9   AIUWLEQ1ADEG5          Elizabeth Medina   \n",
       "330  346055  374359  B00004CI84  A344SMIA5JECGM           Vincent P. Ross   \n",
       "423  417838  451855  B00004CXX9   AJH6LUC1UT1ON  The Phantom of the Opera   \n",
       "\n",
       "     HelpfulnessNumerator  HelpfulnessDenominator     Score       Time  \\\n",
       "0                       0                       0  positive  939340800   \n",
       "30                      2                       2  positive  940809600   \n",
       "424                     0                       0  positive  944092800   \n",
       "330                     1                       2  positive  944438400   \n",
       "423                     0                       0  positive  946857600   \n",
       "\n",
       "                                               Summary  \\\n",
       "0                            EVERY book is educational   \n",
       "30   This whole series is great way to spend time w...   \n",
       "424                               Entertainingl Funny!   \n",
       "330                            A modern day fairy tale   \n",
       "423                                         FANTASTIC!   \n",
       "\n",
       "                                                  Text  \\\n",
       "0    this witty little book makes my son laugh at l...   \n",
       "30   I can remember seeing the show when it aired o...   \n",
       "424  Beetlejuice is a well written movie ..... ever...   \n",
       "330  A twist of rumplestiskin captured on film, sta...   \n",
       "423  Beetlejuice is an excellent and funny movie. K...   \n",
       "\n",
       "                                           CleanedText  \n",
       "0    b'witti littl book make son laugh loud recit c...  \n",
       "30   b'rememb see show air televis year ago child s...  \n",
       "424  b'beetlejuic well written movi everyth excel a...  \n",
       "330  b'twist rumplestiskin captur film star michael...  \n",
       "423  b'beetlejuic excel funni movi keaton hilari wa...  "
      ]
     },
     "execution_count": 7,
     "metadata": {},
     "output_type": "execute_result"
    }
   ],
   "source": [
    "sorted_data.head()         # Time is in ascending order which means the dataset is of Time Based slicing."
   ]
  },
  {
   "cell_type": "code",
   "execution_count": 8,
   "metadata": {},
   "outputs": [
    {
     "data": {
      "text/plain": [
       "b'witti littl book make son laugh loud recit car drive along alway sing refrain hes learn whale india droop love new word book introduc silli classic book will bet son still abl recit memori colleg'"
      ]
     },
     "execution_count": 8,
     "metadata": {},
     "output_type": "execute_result"
    }
   ],
   "source": [
    "sorted_data['CleanedText'][0]"
   ]
  },
  {
   "cell_type": "markdown",
   "metadata": {},
   "source": [
    "# Bag of Words"
   ]
  },
  {
   "cell_type": "code",
   "execution_count": 9,
   "metadata": {},
   "outputs": [
    {
     "name": "stdout",
     "output_type": "stream",
     "text": [
      "(100000, 12)\n",
      "(100000,)\n"
     ]
    }
   ],
   "source": [
    "sample_data = sorted_data.sample(n=100000)\n",
    "print(sample_data.shape)\n",
    "sample_labels = sample_data['Score']\n",
    "print(sample_labels.shape)"
   ]
  },
  {
   "cell_type": "code",
   "execution_count": 98,
   "metadata": {},
   "outputs": [
    {
     "data": {
      "text/html": [
       "<div>\n",
       "<style>\n",
       "    .dataframe thead tr:only-child th {\n",
       "        text-align: right;\n",
       "    }\n",
       "\n",
       "    .dataframe thead th {\n",
       "        text-align: left;\n",
       "    }\n",
       "\n",
       "    .dataframe tbody tr th {\n",
       "        vertical-align: top;\n",
       "    }\n",
       "</style>\n",
       "<table border=\"1\" class=\"dataframe\">\n",
       "  <thead>\n",
       "    <tr style=\"text-align: right;\">\n",
       "      <th></th>\n",
       "      <th>index</th>\n",
       "      <th>Id</th>\n",
       "      <th>ProductId</th>\n",
       "      <th>UserId</th>\n",
       "      <th>ProfileName</th>\n",
       "      <th>HelpfulnessNumerator</th>\n",
       "      <th>HelpfulnessDenominator</th>\n",
       "      <th>Score</th>\n",
       "      <th>Time</th>\n",
       "      <th>Summary</th>\n",
       "      <th>Text</th>\n",
       "      <th>CleanedText</th>\n",
       "    </tr>\n",
       "  </thead>\n",
       "  <tbody>\n",
       "    <tr>\n",
       "      <th>334349</th>\n",
       "      <td>313505</td>\n",
       "      <td>339442</td>\n",
       "      <td>B005A1LJ04</td>\n",
       "      <td>A24O15MYDNLZBE</td>\n",
       "      <td>Lori Smart \"Amazon Queen\"</td>\n",
       "      <td>0</td>\n",
       "      <td>0</td>\n",
       "      <td>positive</td>\n",
       "      <td>1326844800</td>\n",
       "      <td>Sugar Free Margarita Mocktail</td>\n",
       "      <td>These Crystal Light Mocktails are fantastic su...</td>\n",
       "      <td>b'crystal light mocktail fantast summeri treat...</td>\n",
       "    </tr>\n",
       "    <tr>\n",
       "      <th>320870</th>\n",
       "      <td>266335</td>\n",
       "      <td>288700</td>\n",
       "      <td>B004Q4AQDW</td>\n",
       "      <td>A7E85LH2I0TAP</td>\n",
       "      <td>a metaphysician \"of erudition\"</td>\n",
       "      <td>0</td>\n",
       "      <td>0</td>\n",
       "      <td>positive</td>\n",
       "      <td>1321056000</td>\n",
       "      <td>One of the best...</td>\n",
       "      <td>One of my 3 favorite, flavored black teas.  I ...</td>\n",
       "      <td>b'one favorit flavor black tea cant begin desc...</td>\n",
       "    </tr>\n",
       "    <tr>\n",
       "      <th>118810</th>\n",
       "      <td>265412</td>\n",
       "      <td>287701</td>\n",
       "      <td>B000SARZ46</td>\n",
       "      <td>A1H8RBIVE73JSB</td>\n",
       "      <td>Happy mom</td>\n",
       "      <td>2</td>\n",
       "      <td>2</td>\n",
       "      <td>positive</td>\n",
       "      <td>1238630400</td>\n",
       "      <td>YUMMY</td>\n",
       "      <td>My son has multiple allergies, he's allergic t...</td>\n",
       "      <td>b'son multipl allergi hes allerg wheat egg nut...</td>\n",
       "    </tr>\n",
       "    <tr>\n",
       "      <th>133894</th>\n",
       "      <td>96036</td>\n",
       "      <td>104365</td>\n",
       "      <td>B000YSRK7E</td>\n",
       "      <td>AWH2AY17ZU7W2</td>\n",
       "      <td>Jesse Baynard</td>\n",
       "      <td>0</td>\n",
       "      <td>0</td>\n",
       "      <td>positive</td>\n",
       "      <td>1220486400</td>\n",
       "      <td>Very good tortilla chips</td>\n",
       "      <td>The taste of these is right between Tostitos M...</td>\n",
       "      <td>b'tast right tostito multigrain chip origin su...</td>\n",
       "    </tr>\n",
       "    <tr>\n",
       "      <th>280016</th>\n",
       "      <td>360595</td>\n",
       "      <td>390004</td>\n",
       "      <td>B003PEKJK4</td>\n",
       "      <td>A3QODWMRMV3XNE</td>\n",
       "      <td>Joy O. Williams</td>\n",
       "      <td>9</td>\n",
       "      <td>9</td>\n",
       "      <td>positive</td>\n",
       "      <td>1317600000</td>\n",
       "      <td>Best. Cinnamon. Ever.</td>\n",
       "      <td>Though Kirkland's is not as good as some other...</td>\n",
       "      <td>b'though kirkland good vietnames cinnamon ive ...</td>\n",
       "    </tr>\n",
       "  </tbody>\n",
       "</table>\n",
       "</div>"
      ],
      "text/plain": [
       "         index      Id   ProductId          UserId  \\\n",
       "334349  313505  339442  B005A1LJ04  A24O15MYDNLZBE   \n",
       "320870  266335  288700  B004Q4AQDW   A7E85LH2I0TAP   \n",
       "118810  265412  287701  B000SARZ46  A1H8RBIVE73JSB   \n",
       "133894   96036  104365  B000YSRK7E   AWH2AY17ZU7W2   \n",
       "280016  360595  390004  B003PEKJK4  A3QODWMRMV3XNE   \n",
       "\n",
       "                           ProfileName  HelpfulnessNumerator  \\\n",
       "334349       Lori Smart \"Amazon Queen\"                     0   \n",
       "320870  a metaphysician \"of erudition\"                     0   \n",
       "118810                       Happy mom                     2   \n",
       "133894                   Jesse Baynard                     0   \n",
       "280016                 Joy O. Williams                     9   \n",
       "\n",
       "        HelpfulnessDenominator     Score        Time  \\\n",
       "334349                       0  positive  1326844800   \n",
       "320870                       0  positive  1321056000   \n",
       "118810                       2  positive  1238630400   \n",
       "133894                       0  positive  1220486400   \n",
       "280016                       9  positive  1317600000   \n",
       "\n",
       "                              Summary  \\\n",
       "334349  Sugar Free Margarita Mocktail   \n",
       "320870             One of the best...   \n",
       "118810                          YUMMY   \n",
       "133894       Very good tortilla chips   \n",
       "280016          Best. Cinnamon. Ever.   \n",
       "\n",
       "                                                     Text  \\\n",
       "334349  These Crystal Light Mocktails are fantastic su...   \n",
       "320870  One of my 3 favorite, flavored black teas.  I ...   \n",
       "118810  My son has multiple allergies, he's allergic t...   \n",
       "133894  The taste of these is right between Tostitos M...   \n",
       "280016  Though Kirkland's is not as good as some other...   \n",
       "\n",
       "                                              CleanedText  \n",
       "334349  b'crystal light mocktail fantast summeri treat...  \n",
       "320870  b'one favorit flavor black tea cant begin desc...  \n",
       "118810  b'son multipl allergi hes allerg wheat egg nut...  \n",
       "133894  b'tast right tostito multigrain chip origin su...  \n",
       "280016  b'though kirkland good vietnames cinnamon ive ...  "
      ]
     },
     "execution_count": 98,
     "metadata": {},
     "output_type": "execute_result"
    }
   ],
   "source": [
    "sample_data.head()"
   ]
  },
  {
   "cell_type": "code",
   "execution_count": 11,
   "metadata": {
    "collapsed": true
   },
   "outputs": [],
   "source": [
    "count_vect = CountVectorizer() #in scikit-learn\n",
    "final_counts = count_vect.fit_transform(sample_data['CleanedText'].values)"
   ]
  },
  {
   "cell_type": "code",
   "execution_count": 12,
   "metadata": {
    "collapsed": true
   },
   "outputs": [],
   "source": [
    "standardized_data = StandardScaler(with_mean=False).fit_transform(final_counts)"
   ]
  },
  {
   "cell_type": "code",
   "execution_count": 13,
   "metadata": {},
   "outputs": [
    {
     "name": "stdout",
     "output_type": "stream",
     "text": [
      "(100000, 38380)\n",
      "(100000,)\n"
     ]
    }
   ],
   "source": [
    "print(standardized_data.shape)\n",
    "print(sample_labels.shape)"
   ]
  },
  {
   "cell_type": "markdown",
   "metadata": {},
   "source": [
    "# Train, CV and Test -  BOW"
   ]
  },
  {
   "cell_type": "code",
   "execution_count": 14,
   "metadata": {
    "collapsed": true
   },
   "outputs": [],
   "source": [
    "# split the data set into train and test\n",
    "X_1, X_test, y_1, y_test = cross_validation.train_test_split(standardized_data, sample_labels, test_size=0.3, random_state=0)\n",
    "# split the train data set into cross validation train and cross validation test\n",
    "X_tr, X_cv, y_tr, y_cv = cross_validation.train_test_split(X_1, y_1, test_size=0.3)"
   ]
  },
  {
   "cell_type": "code",
   "execution_count": 23,
   "metadata": {},
   "outputs": [
    {
     "name": "stdout",
     "output_type": "stream",
     "text": [
      "[0.90899973268789958, 0.89826515117084926, 0.8778775500191246, 0.8580205152734024, 0.84759203540532402, 0.84689797040773873, 0.84887770387594252]\n"
     ]
    }
   ],
   "source": [
    "C_Val = [0.001, 0.01, 0.1, 1, 10, 100, 1000]\n",
    "cv_scores = []\n",
    "for val in C_Val:\n",
    "    Log_reg = LogisticRegression(C=val)\n",
    "    scores = cross_val_score(Log_reg, X_tr, y_tr, cv=10, scoring='accuracy')\n",
    "    cv_scores.append(scores.mean())\n",
    "print(cv_scores)"
   ]
  },
  {
   "cell_type": "code",
   "execution_count": 24,
   "metadata": {},
   "outputs": [
    {
     "name": "stdout",
     "output_type": "stream",
     "text": [
      "\n",
      "The optimal number of lambda is 0.001000.\n"
     ]
    }
   ],
   "source": [
    "# changing to misclassification error\n",
    "MSE = [1 - x for x in cv_scores]\n",
    "# determining best lambda\n",
    "optimal_lambda = C_Val[MSE.index(min(MSE))]\n",
    "print('\\nThe optimal number of lambda is %f.' % optimal_lambda)"
   ]
  },
  {
   "cell_type": "code",
   "execution_count": 25,
   "metadata": {},
   "outputs": [
    {
     "data": {
      "image/png": "[encoded data removed]",
      "text/plain": [
       "<matplotlib.figure.Figure at 0x121312198>"
      ]
     },
     "metadata": {},
     "output_type": "display_data"
    },
    {
     "name": "stdout",
     "output_type": "stream",
     "text": [
      "the misclassification error for each lambda is :  [ 0.091  0.102  0.122  0.142  0.152  0.153  0.151]\n"
     ]
    }
   ],
   "source": [
    "# plot misclassification error vs alpha \n",
    "plt.plot(C_Val, MSE)\n",
    "\n",
    "for xy in zip(C_Val, np.round(MSE,3)):\n",
    "    plt.annotate('(%s, %s)' % xy, xy=xy, textcoords='data')\n",
    "\n",
    "plt.xlabel('Number of lambda points')\n",
    "plt.ylabel('Misclassification Error')\n",
    "plt.title('MSE')\n",
    "plt.show()\n",
    "\n",
    "print(\"the misclassification error for each lambda is : \", np.round(MSE,3))"
   ]
  },
  {
   "cell_type": "code",
   "execution_count": 22,
   "metadata": {},
   "outputs": [
    {
     "name": "stdout",
     "output_type": "stream",
     "text": [
      "\n",
      "The accuracy of the Logistic Regression for C = 0.001000 is 91.183333%\n"
     ]
    }
   ],
   "source": [
    "# instantiate learning model k = optimal_k\n",
    "optimal_lambda = 0.001000\n",
    "log_reg_optimal = LogisticRegression(C=optimal_lambda)\n",
    "\n",
    "# fitting the model\n",
    "log_reg_optimal.fit(X_tr, y_tr)\n",
    "\n",
    "# predict the response\n",
    "pred = log_reg_optimal.predict(X_test)\n",
    "\n",
    "# evaluate accuracy\n",
    "acc = accuracy_score(y_test, pred) * 100\n",
    "print('\\nThe accuracy of the Logistic Regression for C = %f is %f%%' % (optimal_lambda, acc))"
   ]
  },
  {
   "cell_type": "markdown",
   "metadata": {},
   "source": [
    "# GridSearch - BOW"
   ]
  },
  {
   "cell_type": "code",
   "execution_count": 27,
   "metadata": {},
   "outputs": [
    {
     "name": "stdout",
     "output_type": "stream",
     "text": [
      "LogisticRegression(C=0.01, class_weight=None, dual=False, fit_intercept=True,\n",
      "          intercept_scaling=1, max_iter=100, multi_class='ovr', n_jobs=1,\n",
      "          penalty='l2', random_state=None, solver='liblinear', tol=0.0001,\n",
      "          verbose=0, warm_start=False)\n"
     ]
    }
   ],
   "source": [
    "from sklearn.grid_search import GridSearchCV\n",
    "from sklearn.linear_model import LogisticRegression\n",
    "tuned_parameters = [{'C': [10**-4, 10**-2, 10**0, 10**2, 10**4]}]\n",
    "model = GridSearchCV(LogisticRegression(), tuned_parameters, scoring = 'accuracy', cv=5)\n",
    "model.fit(X_tr, y_tr)\n",
    "print(model.best_estimator_)"
   ]
  },
  {
   "cell_type": "code",
   "execution_count": 28,
   "metadata": {},
   "outputs": [
    {
     "name": "stdout",
     "output_type": "stream",
     "text": [
      "0.896666666667\n"
     ]
    }
   ],
   "source": [
    "print(model.score(X_test, y_test))"
   ]
  },
  {
   "cell_type": "markdown",
   "metadata": {},
   "source": [
    "Report:\n",
    "    The optimal lambda when used GridSearchCV with L2 regularizer is 0.0001 and the accuracy is 89%"
   ]
  },
  {
   "cell_type": "code",
   "execution_count": 20,
   "metadata": {},
   "outputs": [
    {
     "name": "stdout",
     "output_type": "stream",
     "text": [
      "LogisticRegression(C=0.01, class_weight=None, dual=False, fit_intercept=True,\n",
      "          intercept_scaling=1, max_iter=100, multi_class='ovr', n_jobs=-1,\n",
      "          penalty='l1', random_state=None, solver='liblinear', tol=0.0001,\n",
      "          verbose=0, warm_start=False)\n"
     ]
    }
   ],
   "source": [
    "from sklearn.grid_search import GridSearchCV\n",
    "from sklearn.linear_model import LogisticRegression\n",
    "tuned_parameters = [{'C': [10**-4, 10**-2, 10**0, 10**2, 10**4]}]\n",
    "model_grid_l1 = GridSearchCV(LogisticRegression(penalty='l1',n_jobs=-1), tuned_parameters, scoring = 'accuracy', cv=5)\n",
    "model_grid_l1.fit(X_tr, y_tr)\n",
    "print(model_grid_l1.best_estimator_)"
   ]
  },
  {
   "cell_type": "code",
   "execution_count": 21,
   "metadata": {},
   "outputs": [
    {
     "name": "stdout",
     "output_type": "stream",
     "text": [
      "0.9085\n"
     ]
    }
   ],
   "source": [
    "print(model_grid_l1.score(X_test, y_test))"
   ]
  },
  {
   "cell_type": "markdown",
   "metadata": {},
   "source": [
    "Report:\n",
    "    The optimal lambda when used GridSearchCV with L1 regularizer is 0.0001 and the accuracy is 90.85%"
   ]
  },
  {
   "cell_type": "markdown",
   "metadata": {},
   "source": [
    "# RandomSearchCV - BOW"
   ]
  },
  {
   "cell_type": "code",
   "execution_count": 23,
   "metadata": {},
   "outputs": [
    {
     "data": {
      "text/plain": [
       "array([ 0.16351342,  0.52477133,  0.68842066,  0.64301038,  0.7576488 ,\n",
       "        0.68562934,  0.81814153,  0.73435129,  0.87159898,  0.7791563 ])"
      ]
     },
     "execution_count": 23,
     "metadata": {},
     "output_type": "execute_result"
    }
   ],
   "source": [
    "mu, sigma = 0, 1\n",
    "s = np.random.normal(mu, sigma, 10)\n",
    "#print(s)\n",
    "from scipy.stats import uniform\n",
    "uniform.rvs(size=10)"
   ]
  },
  {
   "cell_type": "code",
   "execution_count": 24,
   "metadata": {},
   "outputs": [
    {
     "name": "stdout",
     "output_type": "stream",
     "text": [
      "LogisticRegression(C=0.0025899498542613086, class_weight=None, dual=False,\n",
      "          fit_intercept=True, intercept_scaling=1, max_iter=100,\n",
      "          multi_class='ovr', n_jobs=1, penalty='l2', random_state=None,\n",
      "          solver='liblinear', tol=0.0001, verbose=0, warm_start=False)\n"
     ]
    }
   ],
   "source": [
    "from sklearn.model_selection import RandomizedSearchCV\n",
    "from scipy.stats import uniform\n",
    "tuned_parameters = {'C': uniform.rvs(size=10)}\n",
    "model_rand_l2 = RandomizedSearchCV(LogisticRegression(), tuned_parameters, scoring = 'accuracy', cv=5)\n",
    "model_rand_l2.fit(X_tr, y_tr)\n",
    "print(model_rand_l2.best_estimator_)"
   ]
  },
  {
   "cell_type": "code",
   "execution_count": 25,
   "metadata": {},
   "outputs": [
    {
     "name": "stdout",
     "output_type": "stream",
     "text": [
      "0.905333333333\n"
     ]
    }
   ],
   "source": [
    "print(model_rand_l2.score(X_test, y_test))"
   ]
  },
  {
   "cell_type": "raw",
   "metadata": {},
   "source": [
    "Report:\n",
    "    The optimal lambda when used RandomSearchCV with L2 regularizer is 0.0025 and the accuracy is 90.5%"
   ]
  },
  {
   "cell_type": "code",
   "execution_count": 29,
   "metadata": {
    "collapsed": true
   },
   "outputs": [],
   "source": [
    "from sklearn.model_selection import RandomizedSearchCV\n",
    "from scipy.stats import uniform\n",
    "tuned_parameters = {'C': uniform.rvs(size=10)}\n",
    "model_rand_l1 = RandomizedSearchCV(LogisticRegression(), tuned_parameters, scoring = 'accuracy', cv=5,n_jobs=-1)\n",
    "model_rand_l1.fit(X_tr, y_tr)"
   ]
  },
  {
   "cell_type": "code",
   "execution_count": 28,
   "metadata": {},
   "outputs": [
    {
     "name": "stdout",
     "output_type": "stream",
     "text": [
      "LogisticRegression(C=0.07652106455941643, class_weight=None, dual=False,\n",
      "          fit_intercept=True, intercept_scaling=1, max_iter=100,\n",
      "          multi_class='ovr', n_jobs=1, penalty='l2', random_state=None,\n",
      "          solver='liblinear', tol=0.0001, verbose=0, warm_start=False)\n"
     ]
    }
   ],
   "source": [
    "print(model_rand_l1.best_estimator_)"
   ]
  },
  {
   "cell_type": "code",
   "execution_count": 27,
   "metadata": {},
   "outputs": [
    {
     "name": "stdout",
     "output_type": "stream",
     "text": [
      "0.879366666667\n"
     ]
    }
   ],
   "source": [
    "print(model_rand_l1.score(X_test, y_test))"
   ]
  },
  {
   "cell_type": "raw",
   "metadata": {},
   "source": [
    "Report:\n",
    "    The optimal lambda when used RandomSearchCV with L1 regularizer is 0.076 and the accuracy is 87.9%"
   ]
  },
  {
   "cell_type": "markdown",
   "metadata": {},
   "source": [
    "# Sparsity with L1 BOW"
   ]
  },
  {
   "cell_type": "code",
   "execution_count": 30,
   "metadata": {},
   "outputs": [
    {
     "name": "stdout",
     "output_type": "stream",
     "text": [
      "0.906233333333\n"
     ]
    }
   ],
   "source": [
    "import numpy as np\n",
    "\n",
    "clf = LogisticRegression(C=0.1, penalty='l1');\n",
    "clf.fit(X_tr, y_tr);\n",
    "print(clf.score(X_test,y_test))"
   ]
  },
  {
   "cell_type": "code",
   "execution_count": 31,
   "metadata": {},
   "outputs": [
    {
     "name": "stdout",
     "output_type": "stream",
     "text": [
      "8342\n"
     ]
    }
   ],
   "source": [
    "w = clf.coef_\n",
    "print(np.count_nonzero(w))"
   ]
  },
  {
   "cell_type": "raw",
   "metadata": {},
   "source": [
    "Report:\n",
    "    * The error rate is 10% when lambda is 0.1 and the number of non zero elements are 8342."
   ]
  },
  {
   "cell_type": "code",
   "execution_count": 34,
   "metadata": {},
   "outputs": [
    {
     "name": "stdout",
     "output_type": "stream",
     "text": [
      "accuracy 0.876933333333\n",
      "non zero 10184\n"
     ]
    }
   ],
   "source": [
    "clf = LogisticRegression(C=1, penalty='l1');\n",
    "clf.fit(X_tr, y_tr);\n",
    "print('accuracy',clf.score(X_test,y_test))\n",
    "w = clf.coef_\n",
    "print('non zero', np.count_nonzero(w))"
   ]
  },
  {
   "cell_type": "raw",
   "metadata": {},
   "source": [
    "Report:\n",
    "    * The error rate is almost 13% when lambda is 1 and the number of non zero elements are 10184."
   ]
  },
  {
   "cell_type": "code",
   "execution_count": 32,
   "metadata": {},
   "outputs": [
    {
     "name": "stdout",
     "output_type": "stream",
     "text": [
      "0.847233333333\n"
     ]
    }
   ],
   "source": [
    "clf = LogisticRegression(C=100, penalty='l1');\n",
    "clf.fit(X_tr, y_tr);\n",
    "print(clf.score(X_test,y_test))"
   ]
  },
  {
   "cell_type": "code",
   "execution_count": 33,
   "metadata": {},
   "outputs": [
    {
     "name": "stdout",
     "output_type": "stream",
     "text": [
      "13921\n"
     ]
    }
   ],
   "source": [
    "w = clf.coef_\n",
    "print(np.count_nonzero(w))"
   ]
  },
  {
   "cell_type": "raw",
   "metadata": {},
   "source": [
    "Report:\n",
    "    * The error rate is almost 16% when lambda is 100 and the number of non zero elements are 13921.\n",
    "    * Clearly the error rate is increasing with the increase of lambda. Therefore the performance of the model decrease with the increase in lambda"
   ]
  },
  {
   "cell_type": "markdown",
   "metadata": {
    "collapsed": true
   },
   "source": [
    "# Multicollinearity - BOW"
   ]
  },
  {
   "cell_type": "markdown",
   "metadata": {},
   "source": [
    "* Training the matrix afer adding the noise"
   ]
  },
  {
   "cell_type": "code",
   "execution_count": 15,
   "metadata": {},
   "outputs": [
    {
     "name": "stdout",
     "output_type": "stream",
     "text": [
      "[ 0.05093885]\n"
     ]
    }
   ],
   "source": [
    "# Adding Noise to the matrix\n",
    "mu, sigma = 0, 0.1\n",
    "s = np.random.normal(mu, sigma, 1)\n",
    "print(s)"
   ]
  },
  {
   "cell_type": "code",
   "execution_count": 18,
   "metadata": {},
   "outputs": [],
   "source": [
    "noise_matrix = standardized_data*s[0]"
   ]
  },
  {
   "cell_type": "code",
   "execution_count": 19,
   "metadata": {},
   "outputs": [],
   "source": [
    "# split the data set into train and test\n",
    "X_1_bow, X_test_bow, y_1_bow, y_test_bow = cross_validation.train_test_split(noise_matrix, sample_labels, test_size=0.3, random_state=0)\n",
    "# split the train data set into cross validation train and cross validation test\n",
    "X_tr_bow, X_cv_bow, y_tr_bow, y_cv_bow = cross_validation.train_test_split(X_1_bow, y_1_bow, test_size=0.3)"
   ]
  },
  {
   "cell_type": "code",
   "execution_count": 20,
   "metadata": {},
   "outputs": [
    {
     "name": "stdout",
     "output_type": "stream",
     "text": [
      "\n",
      "The accuracy of the Logistic Regression after adding noise to the data for C = 0.001000 is 84.630000%\n"
     ]
    }
   ],
   "source": [
    "# instantiate learning model k = optimal_k\n",
    "optimal_lambda_multi = 0.001000 # taken from the above outcome from train,cv and test\n",
    "log_reg_mutli = LogisticRegression(C=optimal_lambda_multi) \n",
    "\n",
    "# fitting the model\n",
    "log_reg_mutli.fit(X_tr_bow, y_tr_bow)\n",
    "\n",
    "# predict the response\n",
    "pred = log_reg_mutli.predict(X_test_bow)\n",
    "\n",
    "# evaluate accuracy\n",
    "acc_multi = accuracy_score(y_test_bow, pred) * 100\n",
    "print('\\nThe accuracy of the Logistic Regression after adding noise to the data for C = %f is %f%%' % (optimal_lambda_multi, acc_multi))"
   ]
  },
  {
   "cell_type": "code",
   "execution_count": 21,
   "metadata": {},
   "outputs": [
    {
     "name": "stdout",
     "output_type": "stream",
     "text": [
      "(1, 38380)\n",
      "[[ 0.001678    0.          0.         ...,  0.00230258  0.          0.        ]]\n"
     ]
    }
   ],
   "source": [
    "weight_multi = log_reg_mutli.coef_ # weights with  noise\n",
    "print(weight_multi.shape)\n",
    "print(weight_multi)"
   ]
  },
  {
   "cell_type": "code",
   "execution_count": 24,
   "metadata": {},
   "outputs": [
    {
     "name": "stdout",
     "output_type": "stream",
     "text": [
      "(1, 38380)\n",
      "[[ 0.00108222  0.          0.         ...,  0.          0.          0.        ]]\n"
     ]
    }
   ],
   "source": [
    "# Weights from the original matrix which is not added any noise\n",
    "original_weights = log_reg_optimal.coef_ # original weights with no noise\n",
    "print(original_weights.shape)\n",
    "print(original_weights)"
   ]
  },
  {
   "cell_type": "code",
   "execution_count": 25,
   "metadata": {},
   "outputs": [
    {
     "name": "stdout",
     "output_type": "stream",
     "text": [
      "[ 0.00059578  0.          0.          0.          0.00182784  0.0019195\n",
      "  0.00264413  0.0019195   0.00250729  0.00243956]\n"
     ]
    }
   ],
   "source": [
    "diffs = weight_multi - original_weights\n",
    "print(diffs.flatten()[:10])"
   ]
  },
  {
   "cell_type": "raw",
   "metadata": {},
   "source": [
    "Report:\n",
    "    * There is no much difference in weights after adding the noise. We can say that Bag of words technique is not affecting by multicollinearity"
   ]
  },
  {
   "cell_type": "markdown",
   "metadata": {},
   "source": [
    "# Feature Importance - BOW"
   ]
  },
  {
   "cell_type": "code",
   "execution_count": 99,
   "metadata": {},
   "outputs": [
    {
     "name": "stdout",
     "output_type": "stream",
     "text": [
      "(38380,)\n",
      "[14416 19589  3116 ...,  8348 21975 38379]\n"
     ]
    }
   ],
   "source": [
    "abs_weights = np.abs(original_weights)\n",
    "weights_np = np.asarray(abs_weights).flatten()\n",
    "print(weights_np.shape)\n",
    "# get the sorting indices\n",
    "sorted_index = np.argsort(weights_np)[::-1]\n",
    "print(sorted_index)"
   ]
  },
  {
   "cell_type": "code",
   "execution_count": 100,
   "metadata": {},
   "outputs": [
    {
     "name": "stdout",
     "output_type": "stream",
     "text": [
      "[ 0.42384026  0.34710108  0.2762774  ...,  0.          0.          0.        ]\n"
     ]
    }
   ],
   "source": [
    "# check if the sorting indices are correct\n",
    "#flatten_abs_weigths = abs_weights.flatten()\n",
    "print(weights_np[sorted_index])"
   ]
  },
  {
   "cell_type": "code",
   "execution_count": 101,
   "metadata": {},
   "outputs": [
    {
     "name": "stdout",
     "output_type": "stream",
     "text": [
      "[14416 19589  3116 14101  9341  8692 24935 11331 11831 22592]\n"
     ]
    }
   ],
   "source": [
    "\n",
    "# get the index of the top-10 features\n",
    "top_10 = sorted_index[:10]\n",
    "top_f = np.asarray(top_10)\n",
    "print(top_f)"
   ]
  },
  {
   "cell_type": "code",
   "execution_count": 102,
   "metadata": {},
   "outputs": [
    {
     "name": "stdout",
     "output_type": "stream",
     "text": [
      "['great' 'love' 'best' 'good' 'disappoint' 'delici' 'perfect' 'excel'\n",
      " 'favorit' 'nice']\n"
     ]
    }
   ],
   "source": [
    "# get the names of the top 2 most important features\n",
    "feature_names = count_vect.get_feature_names()\n",
    "#print(feature_names[top_2])\n",
    "f = np.asarray(feature_names)\n",
    "print(f[top_f])"
   ]
  },
  {
   "cell_type": "markdown",
   "metadata": {},
   "source": [
    "# TF-IDF"
   ]
  },
  {
   "cell_type": "code",
   "execution_count": 220,
   "metadata": {},
   "outputs": [
    {
     "name": "stdout",
     "output_type": "stream",
     "text": [
      "(100000, 61762)\n"
     ]
    }
   ],
   "source": [
    "from sklearn.decomposition import TruncatedSVD\n",
    "from sklearn.random_projection import sparse_random_matrix\n",
    "\n",
    "tf_idf_vect = TfidfVectorizer(ngram_range=(1,1))\n",
    "final_tf_idf = tf_idf_vect.fit_transform(sample_data['Text'].values)\n",
    "print(final_tf_idf.shape)"
   ]
  },
  {
   "cell_type": "code",
   "execution_count": 221,
   "metadata": {},
   "outputs": [
    {
     "name": "stdout",
     "output_type": "stream",
     "text": [
      "(100000, 61762)\n"
     ]
    }
   ],
   "source": [
    "standardized_data_tf = StandardScaler(with_mean=False).fit_transform(final_tf_idf)\n",
    "print(standardized_data_tf.shape)"
   ]
  },
  {
   "cell_type": "markdown",
   "metadata": {},
   "source": [
    "# Train,CV,Test - TFIDF"
   ]
  },
  {
   "cell_type": "code",
   "execution_count": 115,
   "metadata": {},
   "outputs": [],
   "source": [
    "# split the data set into train and test\n",
    "X_1_tf, X_test_tf, y_1_tf, y_test_tf = cross_validation.train_test_split(standardized_data_tf, sample_labels, test_size=0.3, random_state=0)\n",
    "# split the train data set into cross validation train and cross validation test\n",
    "X_tr_tf, X_cv_tf, y_tr_tf, y_cv_tf = cross_validation.train_test_split(X_1_tf, y_1_tf, test_size=0.3)"
   ]
  },
  {
   "cell_type": "code",
   "execution_count": 241,
   "metadata": {},
   "outputs": [
    {
     "name": "stdout",
     "output_type": "stream",
     "text": [
      "[0.90134681473110179, 0.88316310318829072, 0.86122431443275449, 0.84442827469165527, 0.83542842015911101, 0.83338758709805583, 0.83293862415064512]\n"
     ]
    }
   ],
   "source": [
    "C_Val = [0.001, 0.01, 0.1, 1, 10, 100, 1000]\n",
    "cv_scores_tf_idf = []\n",
    "for val in C_Val:\n",
    "    Log_reg_tf_idf = LogisticRegression(C=val)\n",
    "    scores_tf = cross_val_score(Log_reg_tf_idf, X_tr_tf, y_tr_tf, cv=10, scoring='accuracy')\n",
    "    cv_scores_tf_idf.append(scores_tf.mean())\n",
    "print(cv_scores_tf_idf)"
   ]
  },
  {
   "cell_type": "code",
   "execution_count": 243,
   "metadata": {},
   "outputs": [
    {
     "name": "stdout",
     "output_type": "stream",
     "text": [
      "\n",
      "The optimal number of alpha is 1000.\n"
     ]
    }
   ],
   "source": [
    "# changing to misclassification error\n",
    "MSE_tf = [1 - x for x in cv_scores]\n",
    "\n",
    "# determining best k\n",
    "optimal_aplha_tf = C_Val[MSE_tf.index(min(MSE_tf))]\n",
    "print('\\nThe optimal number of alpha is %d.' % optimal_aplha_tf)"
   ]
  },
  {
   "cell_type": "code",
   "execution_count": 244,
   "metadata": {},
   "outputs": [
    {
     "data": {
      "image/png": "[encoded data removed]",
      "text/plain": [
       "<matplotlib.figure.Figure at 0x123fe22e8>"
      ]
     },
     "metadata": {},
     "output_type": "display_data"
    },
    {
     "name": "stdout",
     "output_type": "stream",
     "text": [
      "the misclassification error for each alpha is :  [ 0.156  0.156  0.155  0.105  0.083  0.079  0.078]\n"
     ]
    }
   ],
   "source": [
    "# plot misclassification error vs alpha \n",
    "plt.plot(C_Val, MSE_tf)\n",
    "\n",
    "for xy in zip(C_Val, np.round(MSE_tf,3)):\n",
    "    plt.annotate('(%s, %s)' % xy, xy=xy, textcoords='data')\n",
    "\n",
    "plt.xlabel('Number of aplha points')\n",
    "plt.ylabel('Misclassification Error')\n",
    "plt.title('MSE')\n",
    "plt.show()\n",
    "\n",
    "print(\"the misclassification error for each alpha is : \", np.round(MSE_tf,3))"
   ]
  },
  {
   "cell_type": "code",
   "execution_count": 116,
   "metadata": {},
   "outputs": [
    {
     "name": "stdout",
     "output_type": "stream",
     "text": [
      "\n",
      "The accuracy of the Logistic Regression for C = 1000.000000 is 83.273333%\n"
     ]
    }
   ],
   "source": [
    "# instantiate learning model k = optimal_k\n",
    "optimal_aplha_tf=1000\n",
    "log_reg_optimal_tf = LogisticRegression(C=optimal_aplha_tf)\n",
    "\n",
    "# fitting the model\n",
    "log_reg_optimal_tf.fit(X_tr_tf, y_tr_tf)\n",
    "\n",
    "# predict the response\n",
    "pred_tf = log_reg_optimal_tf.predict(X_test_tf)\n",
    "\n",
    "# evaluate accuracy\n",
    "acc_tf = accuracy_score(y_test_tf, pred_tf) * 100\n",
    "print('\\nThe accuracy of the Logistic Regression for C = %f is %f%%' % (optimal_aplha_tf, acc_tf))"
   ]
  },
  {
   "cell_type": "markdown",
   "metadata": {},
   "source": [
    "# GridSearch TF-IDF"
   ]
  },
  {
   "cell_type": "code",
   "execution_count": 220,
   "metadata": {},
   "outputs": [
    {
     "name": "stdout",
     "output_type": "stream",
     "text": [
      "LogisticRegression(C=1, class_weight=None, dual=False, fit_intercept=True,\n",
      "          intercept_scaling=1, max_iter=100, multi_class='ovr', n_jobs=1,\n",
      "          penalty='l2', random_state=None, solver='liblinear', tol=0.0001,\n",
      "          verbose=0, warm_start=False)\n"
     ]
    }
   ],
   "source": [
    "from sklearn.grid_search import GridSearchCV\n",
    "from sklearn.linear_model import LogisticRegression\n",
    "tuned_parameters = [{'C': [10**-4, 10**-2, 10**0, 10**2, 10**4]}]\n",
    "model_tf = GridSearchCV(LogisticRegression(), tuned_parameters, scoring = 'accuracy', cv=5)\n",
    "model_tf.fit(X_tr_tf, y_tr_tf)\n",
    "print(model_tf.best_estimator_)"
   ]
  },
  {
   "cell_type": "code",
   "execution_count": 221,
   "metadata": {},
   "outputs": [
    {
     "name": "stdout",
     "output_type": "stream",
     "text": [
      "0.916433333333\n"
     ]
    }
   ],
   "source": [
    "print(model_tf.score(X_test_tf, y_test_tf))"
   ]
  },
  {
   "cell_type": "raw",
   "metadata": {},
   "source": [
    "Report:\n",
    "    The optimal lambda when used GridSearchCV with L2 regularizer is 1 and the accuracy is 91.64%"
   ]
  },
  {
   "cell_type": "code",
   "execution_count": 223,
   "metadata": {},
   "outputs": [
    {
     "name": "stdout",
     "output_type": "stream",
     "text": [
      "LogisticRegression(C=1, class_weight=None, dual=False, fit_intercept=True,\n",
      "          intercept_scaling=1, max_iter=100, multi_class='ovr', n_jobs=1,\n",
      "          penalty='l1', random_state=None, solver='liblinear', tol=0.0001,\n",
      "          verbose=0, warm_start=False)\n"
     ]
    }
   ],
   "source": [
    "from sklearn.grid_search import GridSearchCV\n",
    "from sklearn.linear_model import LogisticRegression\n",
    "tuned_parameters = [{'C': [10**-4, 10**-2, 10**0, 10**2, 10**4]}]\n",
    "model_tf_l1 = GridSearchCV(LogisticRegression(penalty='l1'), tuned_parameters, scoring = 'accuracy', cv=5)\n",
    "model_tf_l1.fit(X_tr_tf, y_tr_tf)\n",
    "print(model_tf_l1.best_estimator_)"
   ]
  },
  {
   "cell_type": "code",
   "execution_count": 224,
   "metadata": {},
   "outputs": [
    {
     "name": "stdout",
     "output_type": "stream",
     "text": [
      "0.916633333333\n"
     ]
    }
   ],
   "source": [
    "print(model_tf_l1.score(X_test_tf, y_test_tf))"
   ]
  },
  {
   "cell_type": "raw",
   "metadata": {},
   "source": [
    "Report:\n",
    "    The optimal lambda when used GridSearchCV with L1 regularizer is 1 and the accuracy is 91.66% (slight increase in accuracy)"
   ]
  },
  {
   "cell_type": "markdown",
   "metadata": {},
   "source": [
    "# RandomSearchCV TF-IDF"
   ]
  },
  {
   "cell_type": "code",
   "execution_count": 225,
   "metadata": {},
   "outputs": [
    {
     "name": "stdout",
     "output_type": "stream",
     "text": [
      "LogisticRegression(C=0.91361595715910737, class_weight=None, dual=False,\n",
      "          fit_intercept=True, intercept_scaling=1, max_iter=100,\n",
      "          multi_class='ovr', n_jobs=-1, penalty='l2', random_state=None,\n",
      "          solver='liblinear', tol=0.0001, verbose=0, warm_start=False)\n"
     ]
    }
   ],
   "source": [
    "from sklearn.model_selection import RandomizedSearchCV\n",
    "from scipy.stats import uniform\n",
    "tuned_parameters = {'C': uniform.rvs(size=10)}\n",
    "model_rand_l2_tf = RandomizedSearchCV(LogisticRegression(n_jobs=-1), tuned_parameters, scoring = 'accuracy', cv=5)\n",
    "model_rand_l2_tf.fit(X_tr_tf, y_tr_tf)\n",
    "print(model_rand_l2_tf.best_estimator_)"
   ]
  },
  {
   "cell_type": "code",
   "execution_count": 226,
   "metadata": {},
   "outputs": [
    {
     "name": "stdout",
     "output_type": "stream",
     "text": [
      "0.9157\n"
     ]
    }
   ],
   "source": [
    "print(model_rand_l2_tf.score(X_test_tf, y_test_tf))"
   ]
  },
  {
   "cell_type": "raw",
   "metadata": {},
   "source": [
    "Report:\n",
    "    The optimal lambda when used RandomSearchCV with L2 regularizer is 0.91 and the accuracy is 91.57%"
   ]
  },
  {
   "cell_type": "code",
   "execution_count": 227,
   "metadata": {},
   "outputs": [
    {
     "name": "stdout",
     "output_type": "stream",
     "text": [
      "LogisticRegression(C=0.96431769798190548, class_weight=None, dual=False,\n",
      "          fit_intercept=True, intercept_scaling=1, max_iter=100,\n",
      "          multi_class='ovr', n_jobs=-1, penalty='l1', random_state=None,\n",
      "          solver='liblinear', tol=0.0001, verbose=0, warm_start=False)\n"
     ]
    }
   ],
   "source": [
    "from sklearn.model_selection import RandomizedSearchCV\n",
    "from scipy.stats import uniform\n",
    "tuned_parameters = {'C': uniform.rvs(size=10)}\n",
    "model_rand_l1_tf = RandomizedSearchCV(LogisticRegression(penalty='l1',n_jobs=-1), tuned_parameters, scoring = 'accuracy', cv=5)\n",
    "model_rand_l1_tf.fit(X_tr_tf, y_tr_tf)\n",
    "print(model_rand_l1_tf.best_estimator_)"
   ]
  },
  {
   "cell_type": "code",
   "execution_count": 228,
   "metadata": {},
   "outputs": [
    {
     "name": "stdout",
     "output_type": "stream",
     "text": [
      "0.916466666667\n"
     ]
    }
   ],
   "source": [
    "print(model_rand_l1_tf.score(X_test_tf, y_test_tf))"
   ]
  },
  {
   "cell_type": "raw",
   "metadata": {},
   "source": [
    "Report:\n",
    "    The optimal lambda when used RandomSearchCV with L1 regularizer is 1 and the accuracy is 91.64% (slight increase in accuracy)"
   ]
  },
  {
   "cell_type": "markdown",
   "metadata": {},
   "source": [
    "# Sparsity with L1 TF-IDF"
   ]
  },
  {
   "cell_type": "code",
   "execution_count": 229,
   "metadata": {},
   "outputs": [
    {
     "name": "stdout",
     "output_type": "stream",
     "text": [
      "acc 0.885\n",
      "sparsity 133\n"
     ]
    }
   ],
   "source": [
    "import numpy as np\n",
    "\n",
    "clf_1_tf = LogisticRegression(C=0.1, penalty='l1');\n",
    "clf_1_tf.fit(X_tr_tf, y_tr_tf);\n",
    "print('acc',clf_1_tf.score(X_test_tf,y_test_tf))\n",
    "w_1_tf = clf_1_tf.coef_\n",
    "print('sparsity',np.count_nonzero(w_1_tf))"
   ]
  },
  {
   "cell_type": "raw",
   "metadata": {},
   "source": [
    "Report:\n",
    "    * The error rate is 11.5% when lambda is 0.1 and the number of non zero elements are 133."
   ]
  },
  {
   "cell_type": "code",
   "execution_count": 230,
   "metadata": {},
   "outputs": [
    {
     "name": "stdout",
     "output_type": "stream",
     "text": [
      "acc 0.916633333333\n",
      "sparsity 1098\n"
     ]
    }
   ],
   "source": [
    "clf_2_tf = LogisticRegression(C=1, penalty='l1');\n",
    "clf_2_tf.fit(X_tr_tf, y_tr_tf);\n",
    "print('acc',clf_2_tf.score(X_test_tf,y_test_tf))\n",
    "w_2_tf = clf_2_tf.coef_\n",
    "print('sparsity',np.count_nonzero(w_2_tf))"
   ]
  },
  {
   "cell_type": "raw",
   "metadata": {},
   "source": [
    "Report:\n",
    "    * The error rate is 8.4% when lambda is 1 and the number of non zero elements are 1098."
   ]
  },
  {
   "cell_type": "code",
   "execution_count": 231,
   "metadata": {},
   "outputs": [
    {
     "name": "stdout",
     "output_type": "stream",
     "text": [
      "acc 0.8788\n",
      "sparsity 9246\n"
     ]
    }
   ],
   "source": [
    "clf_3_tf = LogisticRegression(C=100, penalty='l1');\n",
    "clf_3_tf.fit(X_tr_tf, y_tr_tf);\n",
    "print('acc',clf_3_tf.score(X_test_tf,y_test_tf))\n",
    "w_3_tf = clf_3_tf.coef_\n",
    "print('sparsity',np.count_nonzero(w_3_tf))"
   ]
  },
  {
   "cell_type": "raw",
   "metadata": {},
   "source": [
    "Report:\n",
    "    * The error rate is 12.2% when lambda is 100 and the number of non zero elements are 9246."
   ]
  },
  {
   "cell_type": "markdown",
   "metadata": {},
   "source": [
    "# Multicollinearity TF-IDF"
   ]
  },
  {
   "cell_type": "code",
   "execution_count": 238,
   "metadata": {},
   "outputs": [
    {
     "name": "stdout",
     "output_type": "stream",
     "text": [
      "[ 0.05013082]\n"
     ]
    }
   ],
   "source": [
    "# Adding Noise to the matrix\n",
    "mu, sigma = 0, 0.1\n",
    "s = np.random.normal(mu, sigma, 1)\n",
    "print(s)"
   ]
  },
  {
   "cell_type": "code",
   "execution_count": 108,
   "metadata": {},
   "outputs": [],
   "source": [
    "noise_matrix_tf = standardized_data_tf*s[0]"
   ]
  },
  {
   "cell_type": "code",
   "execution_count": 109,
   "metadata": {},
   "outputs": [],
   "source": [
    "# split the data set into train and test\n",
    "X_1_tf_mul, X_test_tf_mul, y_1_tf_mul, y_test_tf_mul = cross_validation.train_test_split(noise_matrix_tf, sample_labels, test_size=0.3, random_state=0)\n",
    "# split the train data set into cross validation train and cross validation test\n",
    "X_tr_tf_mul, X_cv_tf_mul, y_tr_tf_mul, y_cv_tf_mul = cross_validation.train_test_split(X_1_tf_mul, y_1_tf_mul, test_size=0.3)"
   ]
  },
  {
   "cell_type": "code",
   "execution_count": 111,
   "metadata": {},
   "outputs": [
    {
     "name": "stdout",
     "output_type": "stream",
     "text": [
      "\n",
      "The accuracy of the Logistic Regression for C = 1000.000000 is 87.400000%\n"
     ]
    }
   ],
   "source": [
    "# instantiate learning model k = optimal_k\n",
    "optimal_aplha_tf=1000\n",
    "log_reg_optimal_tf_mul = LogisticRegression(C=optimal_aplha_tf)\n",
    "\n",
    "# fitting the model\n",
    "log_reg_optimal_tf_mul.fit(X_tr_tf_mul, y_tr_tf_mul)\n",
    "\n",
    "# predict the response\n",
    "pred_tf_mul = log_reg_optimal_tf_mul.predict(X_test_tf_mul)\n",
    "\n",
    "# evaluate accuracy\n",
    "acc_tf_mul = accuracy_score(y_test_tf_mul, pred_tf_mul) * 100\n",
    "print('\\nThe accuracy of the Logistic Regression for C = %f is %f%%' % (optimal_aplha_tf, acc_tf_mul))"
   ]
  },
  {
   "cell_type": "code",
   "execution_count": 112,
   "metadata": {},
   "outputs": [
    {
     "name": "stdout",
     "output_type": "stream",
     "text": [
      "(1, 38380)\n",
      "[[ 0.3548621   0.          0.         ...,  0.05026341  0.          0.        ]]\n"
     ]
    }
   ],
   "source": [
    "weight_multi_tf = log_reg_optimal_tf_mul.coef_ # weights with  noise\n",
    "print(weight_multi_tf.shape)\n",
    "print(weight_multi_tf)"
   ]
  },
  {
   "cell_type": "code",
   "execution_count": 117,
   "metadata": {},
   "outputs": [
    {
     "name": "stdout",
     "output_type": "stream",
     "text": [
      "(1, 38380)\n",
      "[[-0.00901837  0.          0.         ...,  0.00143564  0.          0.        ]]\n"
     ]
    }
   ],
   "source": [
    "# Weights from the original matrix which is not added any noise\n",
    "original_weights_tf = log_reg_optimal_tf.coef_ # original weights with no noise\n",
    "print(original_weights_tf.shape)\n",
    "print(original_weights_tf)"
   ]
  },
  {
   "cell_type": "code",
   "execution_count": 118,
   "metadata": {},
   "outputs": [
    {
     "name": "stdout",
     "output_type": "stream",
     "text": [
      "[ 0.36388047  0.          0.          0.          0.35698101  0.02554674\n",
      "  0.27296997  0.02554674  0.08481837  0.08355967]\n"
     ]
    }
   ],
   "source": [
    "diffs_tf = weight_multi_tf - original_weights_tf\n",
    "print(diffs_tf.flatten()[:10])"
   ]
  },
  {
   "cell_type": "raw",
   "metadata": {},
   "source": [
    "Report:\n",
    "    * There is no much difference in weights after adding the noise. We can say that TF-IDF technique is not affecting by multicollinearity"
   ]
  },
  {
   "cell_type": "markdown",
   "metadata": {},
   "source": [
    "# Feature Importance TF-IDF"
   ]
  },
  {
   "cell_type": "code",
   "execution_count": 119,
   "metadata": {},
   "outputs": [
    {
     "name": "stdout",
     "output_type": "stream",
     "text": [
      "(38380,)\n",
      "[19589  8728  3116 ..., 24401  9678 38379]\n"
     ]
    }
   ],
   "source": [
    "#original_weights_tf_abs = np.abs(original_weights_tf)\n",
    "abs_weights_tf = np.abs(original_weights_tf)\n",
    "weights_np_tf = np.asarray(abs_weights_tf).flatten()\n",
    "print(weights_np_tf.shape)\n",
    "# get the sorting indices\n",
    "sorted_index_tf = np.argsort(weights_np_tf)[::-1]\n",
    "print(sorted_index_tf)"
   ]
  },
  {
   "cell_type": "code",
   "execution_count": 121,
   "metadata": {},
   "outputs": [
    {
     "name": "stdout",
     "output_type": "stream",
     "text": [
      "[ 8.36188783  7.90683988  7.74112125 ...,  0.          0.          0.        ]\n"
     ]
    }
   ],
   "source": [
    "# check if the sorting indices are correct\n",
    "print(weights_np_tf[sorted_index_tf])"
   ]
  },
  {
   "cell_type": "code",
   "execution_count": 122,
   "metadata": {},
   "outputs": [
    {
     "name": "stdout",
     "output_type": "stream",
     "text": [
      "[19589  8728  3116 14416   319 11331 24935 38114 30088  8692]\n"
     ]
    }
   ],
   "source": [
    "# get the index of the top-10 features\n",
    "top_10 = sorted_index_tf[:10]\n",
    "top_f = np.asarray(top_10)\n",
    "print(top_f)"
   ]
  },
  {
   "cell_type": "code",
   "execution_count": 123,
   "metadata": {},
   "outputs": [
    {
     "name": "stdout",
     "output_type": "stream",
     "text": [
      "['love' 'delight' 'best' 'great' 'addict' 'excel' 'perfect' 'yum' 'shes'\n",
      " 'delici']\n"
     ]
    }
   ],
   "source": [
    "# get the names of the top 2 most important features\n",
    "feature_names_tf = tf_idf_vect.get_feature_names()\n",
    "#print(feature_names[top_2])\n",
    "tf = np.asarray(feature_names_tf)\n",
    "print(tf[top_f])"
   ]
  },
  {
   "cell_type": "raw",
   "metadata": {},
   "source": [
    "Report:\n",
    " * I took one gram in tf-idf and the reason is to reduce the importance of the most occuring words."
   ]
  },
  {
   "cell_type": "markdown",
   "metadata": {},
   "source": [
    "# W2V"
   ]
  },
  {
   "cell_type": "code",
   "execution_count": 124,
   "metadata": {},
   "outputs": [
    {
     "name": "stdout",
     "output_type": "stream",
     "text": [
      "<gensim.models.keyedvectors.Word2VecKeyedVectors object at 0x11a36a470>\n"
     ]
    }
   ],
   "source": [
    "# Using Google News Word2Vectors\n",
    "from gensim.models import Word2Vec\n",
    "from gensim.models import KeyedVectors\n",
    "import pickle\n",
    "model = KeyedVectors.load_word2vec_format('GoogleNews-vectors-negative300.bin', binary=True)\n",
    "print(model)"
   ]
  },
  {
   "cell_type": "code",
   "execution_count": 125,
   "metadata": {},
   "outputs": [
    {
     "data": {
      "text/plain": [
       "0.76640123"
      ]
     },
     "execution_count": 125,
     "metadata": {},
     "output_type": "execute_result"
    }
   ],
   "source": [
    "model.wv.similarity('woman', 'man')"
   ]
  },
  {
   "cell_type": "code",
   "execution_count": 126,
   "metadata": {
    "collapsed": true
   },
   "outputs": [],
   "source": [
    "import re\n",
    "import string\n",
    "from nltk.corpus import stopwords\n",
    "from nltk.stem import PorterStemmer\n",
    "from nltk.stem.wordnet import WordNetLemmatizer\n",
    "\n",
    "stop = set(stopwords.words('english')) #set of stopwords\n",
    "sno = nltk.stem.SnowballStemmer('english') #initialising the snowball stemmer\n",
    "\n",
    "def cleanhtml(sentence): #function to clean the word of any html-tags\n",
    "    cleanr = re.compile('<.*?>')\n",
    "    cleantext = re.sub(cleanr, ' ', sentence)\n",
    "    return cleantext\n",
    "def cleanpunc(sentence): #function to clean the word of any punctuation or special characters\n",
    "    cleaned = re.sub(r'[?|!|\\'|\"|#]',r'',sentence)\n",
    "    cleaned = re.sub(r'[.|,|)|(|\\|/]',r' ',cleaned)\n",
    "    return  cleaned"
   ]
  },
  {
   "cell_type": "code",
   "execution_count": 127,
   "metadata": {},
   "outputs": [
    {
     "name": "stdout",
     "output_type": "stream",
     "text": [
      "100000\n"
     ]
    }
   ],
   "source": [
    "# Train your own Word2Vec model using your own text corpus\n",
    "import gensim\n",
    "i=0\n",
    "list_of_sent=[]\n",
    "for sent in sample_data['Text'].values:\n",
    "    filtered_sentence=[]\n",
    "    sent=cleanhtml(sent)\n",
    "    for w in sent.split():\n",
    "        for cleaned_words in cleanpunc(w).split():\n",
    "            if(cleaned_words.isalpha()):    \n",
    "                filtered_sentence.append(cleaned_words.lower())\n",
    "            else:\n",
    "                continue \n",
    "    list_of_sent.append(filtered_sentence)\n",
    "print(len(list_of_sent))"
   ]
  },
  {
   "cell_type": "code",
   "execution_count": 128,
   "metadata": {},
   "outputs": [
    {
     "name": "stdout",
     "output_type": "stream",
     "text": [
      "These Crystal Light Mocktails are fantastic summery treats for grown ups! So many of the sugar free flavored drinks are not aimed at adults, but these are great! You can't beat the taste of citrus to cool off, and the Margarita mix is perfect for warm days. It was actually very good as a mixer with a shot of tequila in it,too!\n",
      "*****************************************************************\n",
      "['these', 'crystal', 'light', 'mocktails', 'are', 'fantastic', 'summery', 'treats', 'for', 'grown', 'ups', 'so', 'many', 'of', 'the', 'sugar', 'free', 'flavored', 'drinks', 'are', 'not', 'aimed', 'at', 'adults', 'but', 'these', 'are', 'great', 'you', 'cant', 'beat', 'the', 'taste', 'of', 'citrus', 'to', 'cool', 'off', 'and', 'the', 'margarita', 'mix', 'is', 'perfect', 'for', 'warm', 'days', 'it', 'was', 'actually', 'very', 'good', 'as', 'a', 'mixer', 'with', 'a', 'shot', 'of', 'tequila', 'in', 'it', 'too']\n"
     ]
    }
   ],
   "source": [
    "print(sample_data['Text'].values[0])\n",
    "print(\"*****************************************************************\")\n",
    "print(list_of_sent[0])"
   ]
  },
  {
   "cell_type": "code",
   "execution_count": 129,
   "metadata": {},
   "outputs": [
    {
     "data": {
      "text/plain": [
       "gensim.models.word2vec.Word2Vec"
      ]
     },
     "execution_count": 129,
     "metadata": {},
     "output_type": "execute_result"
    }
   ],
   "source": [
    "w2v_model=gensim.models.Word2Vec(list_of_sent,min_count=5,size=50, workers=4)\n",
    "type(w2v_model)"
   ]
  },
  {
   "cell_type": "code",
   "execution_count": 130,
   "metadata": {},
   "outputs": [
    {
     "name": "stdout",
     "output_type": "stream",
     "text": [
      "19157\n"
     ]
    }
   ],
   "source": [
    "words = list(w2v_model.wv.vocab)\n",
    "print(len(words))"
   ]
  },
  {
   "cell_type": "markdown",
   "metadata": {},
   "source": [
    "# Average W2V"
   ]
  },
  {
   "cell_type": "code",
   "execution_count": 222,
   "metadata": {},
   "outputs": [
    {
     "name": "stdout",
     "output_type": "stream",
     "text": [
      "100000\n",
      "50\n",
      "['these', 'crystal', 'light', 'mocktails', 'are', 'fantastic', 'summery', 'treats', 'for', 'grown', 'ups', 'so', 'many', 'of', 'the', 'sugar', 'free', 'flavored', 'drinks', 'are', 'not', 'aimed', 'at', 'adults', 'but', 'these', 'are', 'great', 'you', 'cant', 'beat', 'the', 'taste', 'of', 'citrus', 'to', 'cool', 'off', 'and', 'the', 'margarita', 'mix', 'is', 'perfect', 'for', 'warm', 'days', 'it', 'was', 'actually', 'very', 'good', 'as', 'a', 'mixer', 'with', 'a', 'shot', 'of', 'tequila', 'in', 'it', 'too']\n"
     ]
    }
   ],
   "source": [
    "# average Word2Vec\n",
    "# compute average word2vec for each review.\n",
    "sent_vectors = []; # the avg-w2v for each sentence/review is stored in this list\n",
    "for sent in list_of_sent: # for each review/sentence\n",
    "    sent_vec = np.zeros(50) # as word vectors are of zero length\n",
    "    cnt_words =0; # num of words with a valid vector in the sentence/review\n",
    "    for word in sent: # for each word in a review/sentence\n",
    "        try:\n",
    "            vec = w2v_model.wv[word]\n",
    "            sent_vec += vec\n",
    "            cnt_words += 1\n",
    "        except:\n",
    "            pass\n",
    "    sent_vec /= cnt_words\n",
    "    sent_vectors.append(sent_vec)\n",
    "print(len(sent_vectors))\n",
    "print(len(sent_vectors[0]))\n",
    "print(list_of_sent[0])"
   ]
  },
  {
   "cell_type": "code",
   "execution_count": 133,
   "metadata": {},
   "outputs": [
    {
     "name": "stdout",
     "output_type": "stream",
     "text": [
      "[ 0.44188607 -0.11082012  0.11923695 -0.39371548 -0.01757231  0.55770447\n",
      "  0.31380234 -0.60181747 -0.10743466  0.22502994 -0.59566127  0.27098435\n",
      "  0.04081101 -0.13775745 -0.5128596   0.75088135  0.60063419  0.54239213\n",
      "  0.11818313 -0.58889848 -0.27934573  0.1439522   0.56386373  1.11674491\n",
      " -0.42911389  0.41811838  0.67825835  0.28803299  0.35926605  0.59986197\n",
      " -0.63473861 -0.26303549  0.0506224   0.15325701 -0.05400344 -0.22297534\n",
      "  0.11594248 -0.45334876  0.15019477  0.32380784 -0.48239108 -0.28310504\n",
      "  0.344402    0.96474976 -0.62155364 -0.29880266 -0.26324255  0.32983154\n",
      " -0.25016528 -1.00039061]\n",
      "100000\n"
     ]
    }
   ],
   "source": [
    "print(sent_vectors[0])\n",
    "print(len(sent_vectors))"
   ]
  },
  {
   "cell_type": "markdown",
   "metadata": {},
   "source": [
    "# Train,CV,Test - AvgW2V"
   ]
  },
  {
   "cell_type": "code",
   "execution_count": 134,
   "metadata": {
    "collapsed": true
   },
   "outputs": [],
   "source": [
    "# split the data set into train and test\n",
    "X_1_w2v, X_test_w2v, y_1_w2v, y_test_w2v = cross_validation.train_test_split(sent_vectors, sample_labels, test_size=0.3, random_state=0)\n",
    "\n",
    "# split the train data set into cross validation train and cross validation test\n",
    "X_tr_w2v, X_cv_w2v, y_tr_w2v, y_cv_w2v = cross_validation.train_test_split(X_1_w2v, y_1_w2v, test_size=0.3)"
   ]
  },
  {
   "cell_type": "code",
   "execution_count": 269,
   "metadata": {},
   "outputs": [
    {
     "name": "stdout",
     "output_type": "stream",
     "text": [
      "[0.85269383933734932, 0.87687731369071409, 0.88106090816495208, 0.88169358207208359, 0.88134666411188056, 0.88124463162031719, 0.88134667244004361]\n"
     ]
    }
   ],
   "source": [
    "C_Val = [0.001, 0.01, 0.1, 1, 10, 100, 1000]\n",
    "cv_scores_w2v = []\n",
    "for val in C_Val:\n",
    "    Log_reg_w2v = LogisticRegression(C=val)\n",
    "    scores_w2v = cross_val_score(Log_reg_w2v, X_tr_w2v, y_tr_w2v, cv=10, scoring='accuracy')\n",
    "    cv_scores_w2v.append(scores_w2v.mean())\n",
    "print(cv_scores_w2v)"
   ]
  },
  {
   "cell_type": "code",
   "execution_count": 270,
   "metadata": {},
   "outputs": [
    {
     "name": "stdout",
     "output_type": "stream",
     "text": [
      "\n",
      "The optimal number of alpha is 1.\n"
     ]
    }
   ],
   "source": [
    "# changing to misclassification error\n",
    "MSE_w2v = [1 - x for x in cv_scores_w2v]\n",
    "\n",
    "# determining best k\n",
    "optimal_aplha_w2v = C_Val[MSE_w2v.index(min(MSE_w2v))]\n",
    "print('\\nThe optimal number of alpha is %d.' % optimal_aplha_w2v)"
   ]
  },
  {
   "cell_type": "code",
   "execution_count": 271,
   "metadata": {},
   "outputs": [
    {
     "data": {
      "image/png": "[encoded data removed]",
      "text/plain": [
       "<matplotlib.figure.Figure at 0x292d2ae48>"
      ]
     },
     "metadata": {},
     "output_type": "display_data"
    },
    {
     "name": "stdout",
     "output_type": "stream",
     "text": [
      "the misclassification error for each alpha is :  [ 0.147  0.123  0.119  0.118  0.119  0.119  0.119]\n"
     ]
    }
   ],
   "source": [
    "# plot misclassification error vs alpha \n",
    "plt.plot(C_Val, MSE_w2v)\n",
    "\n",
    "for xy in zip(C_Val, np.round(MSE_w2v,3)):\n",
    "    plt.annotate('(%s, %s)' % xy, xy=xy, textcoords='data')\n",
    "\n",
    "plt.xlabel('Number of aplha points')\n",
    "plt.ylabel('Misclassification Error')\n",
    "plt.title('MSE')\n",
    "plt.show()\n",
    "\n",
    "print(\"the misclassification error for each alpha is : \", np.round(MSE_w2v,3))"
   ]
  },
  {
   "cell_type": "code",
   "execution_count": 135,
   "metadata": {},
   "outputs": [
    {
     "name": "stdout",
     "output_type": "stream",
     "text": [
      "\n",
      "The accuracy of the Logistic Regression for C = 1.000000 is 88.406667%\n"
     ]
    }
   ],
   "source": [
    "# instantiate learning model k = optimal_k\n",
    "optimal_aplha_w2v=1\n",
    "log_reg_optimal_w2v = LogisticRegression(C=optimal_aplha_w2v)\n",
    "\n",
    "# fitting the model\n",
    "log_reg_optimal_w2v.fit(X_tr_w2v, y_tr_w2v)\n",
    "\n",
    "# predict the response\n",
    "pred_w2v = log_reg_optimal_w2v.predict(X_test_w2v)\n",
    "\n",
    "# evaluate accuracy\n",
    "acc_w2v = accuracy_score(y_test_w2v, pred_w2v) * 100\n",
    "print('\\nThe accuracy of the Logistic Regression for C = %f is %f%%' % (optimal_aplha_w2v, acc_w2v))"
   ]
  },
  {
   "cell_type": "markdown",
   "metadata": {},
   "source": [
    "# GridSearch Avg W2V"
   ]
  },
  {
   "cell_type": "code",
   "execution_count": 273,
   "metadata": {},
   "outputs": [
    {
     "name": "stdout",
     "output_type": "stream",
     "text": [
      "LogisticRegression(C=10000, class_weight=None, dual=False, fit_intercept=True,\n",
      "          intercept_scaling=1, max_iter=100, multi_class='ovr', n_jobs=-1,\n",
      "          penalty='l2', random_state=None, solver='liblinear', tol=0.0001,\n",
      "          verbose=0, warm_start=False)\n"
     ]
    }
   ],
   "source": [
    "from sklearn.grid_search import GridSearchCV\n",
    "from sklearn.linear_model import LogisticRegression\n",
    "tuned_parameters = [{'C': [10**-4, 10**-2, 10**0, 10**2, 10**4]}]\n",
    "model_w2v_l2 = GridSearchCV(LogisticRegression(n_jobs=-1), tuned_parameters, scoring = 'accuracy', cv=5)\n",
    "model_w2v_l2.fit(X_tr_w2v, y_tr_w2v)\n",
    "print(model_w2v_l2.best_estimator_)"
   ]
  },
  {
   "cell_type": "code",
   "execution_count": 274,
   "metadata": {},
   "outputs": [
    {
     "name": "stdout",
     "output_type": "stream",
     "text": [
      "0.883666666667\n"
     ]
    }
   ],
   "source": [
    "print(model_w2v_l2.score(X_test_w2v, y_test_w2v))"
   ]
  },
  {
   "cell_type": "raw",
   "metadata": {},
   "source": [
    "Report:\n",
    "    The optimal lambda when used GridSearchCV with L2 regularizer is 10000 and the accuracy is 88.36%"
   ]
  },
  {
   "cell_type": "code",
   "execution_count": 275,
   "metadata": {},
   "outputs": [
    {
     "name": "stdout",
     "output_type": "stream",
     "text": [
      "LogisticRegression(C=1, class_weight=None, dual=False, fit_intercept=True,\n",
      "          intercept_scaling=1, max_iter=100, multi_class='ovr', n_jobs=-1,\n",
      "          penalty='l1', random_state=None, solver='liblinear', tol=0.0001,\n",
      "          verbose=0, warm_start=False)\n"
     ]
    }
   ],
   "source": [
    "from sklearn.grid_search import GridSearchCV\n",
    "from sklearn.linear_model import LogisticRegression\n",
    "tuned_parameters = [{'C': [10**-4, 10**-2, 10**0, 10**2, 10**4]}]\n",
    "model_w2v_l1 = GridSearchCV(LogisticRegression(penalty='l1',n_jobs=-1), tuned_parameters, scoring = 'accuracy', cv=5)\n",
    "model_w2v_l1.fit(X_tr_w2v, y_tr_w2v)\n",
    "print(model_w2v_l1.best_estimator_)"
   ]
  },
  {
   "cell_type": "code",
   "execution_count": 276,
   "metadata": {},
   "outputs": [
    {
     "name": "stdout",
     "output_type": "stream",
     "text": [
      "0.883266666667\n"
     ]
    }
   ],
   "source": [
    "print(model_w2v_l1.score(X_test_w2v, y_test_w2v))"
   ]
  },
  {
   "cell_type": "raw",
   "metadata": {},
   "source": [
    "Report:\n",
    "    The optimal lambda when used GridSearchCV with L1 regularizer is 1 and the accuracy is 88.32%"
   ]
  },
  {
   "cell_type": "markdown",
   "metadata": {},
   "source": [
    "# RandomSearchCV Avg W2V"
   ]
  },
  {
   "cell_type": "code",
   "execution_count": 277,
   "metadata": {},
   "outputs": [
    {
     "name": "stdout",
     "output_type": "stream",
     "text": [
      "LogisticRegression(C=0.80559108708562166, class_weight=None, dual=False,\n",
      "          fit_intercept=True, intercept_scaling=1, max_iter=100,\n",
      "          multi_class='ovr', n_jobs=-1, penalty='l2', random_state=None,\n",
      "          solver='liblinear', tol=0.0001, verbose=0, warm_start=False)\n"
     ]
    }
   ],
   "source": [
    "from sklearn.model_selection import RandomizedSearchCV\n",
    "from scipy.stats import uniform\n",
    "tuned_parameters = {'C': uniform.rvs(size=10)}\n",
    "model_rand_l2_w2v = RandomizedSearchCV(LogisticRegression(n_jobs=-1), tuned_parameters, scoring = 'accuracy', cv=5)\n",
    "model_rand_l2_w2v.fit(X_tr_w2v, y_tr_w2v)\n",
    "print(model_rand_l2_w2v.best_estimator_)"
   ]
  },
  {
   "cell_type": "code",
   "execution_count": 278,
   "metadata": {},
   "outputs": [
    {
     "name": "stdout",
     "output_type": "stream",
     "text": [
      "0.883566666667\n"
     ]
    }
   ],
   "source": [
    "print(model_rand_l2_w2v.score(X_test_w2v, y_test_w2v))"
   ]
  },
  {
   "cell_type": "raw",
   "metadata": {},
   "source": [
    "Report:\n",
    "    The optimal lambda when used RandomSearchCV with L2 regularizer is 0.80 and the accuracy is 88.356%"
   ]
  },
  {
   "cell_type": "code",
   "execution_count": 279,
   "metadata": {},
   "outputs": [
    {
     "name": "stdout",
     "output_type": "stream",
     "text": [
      "LogisticRegression(C=0.91760039713185504, class_weight=None, dual=False,\n",
      "          fit_intercept=True, intercept_scaling=1, max_iter=100,\n",
      "          multi_class='ovr', n_jobs=-1, penalty='l1', random_state=None,\n",
      "          solver='liblinear', tol=0.0001, verbose=0, warm_start=False)\n"
     ]
    }
   ],
   "source": [
    "from sklearn.model_selection import RandomizedSearchCV\n",
    "from scipy.stats import uniform\n",
    "tuned_parameters = {'C': uniform.rvs(size=10)}\n",
    "model_rand_l1_w2v = RandomizedSearchCV(LogisticRegression(penalty='l1',n_jobs=-1), tuned_parameters, scoring = 'accuracy', cv=5)\n",
    "model_rand_l1_w2v.fit(X_tr_w2v, y_tr_w2v)\n",
    "print(model_rand_l1_w2v.best_estimator_)"
   ]
  },
  {
   "cell_type": "code",
   "execution_count": 280,
   "metadata": {},
   "outputs": [
    {
     "name": "stdout",
     "output_type": "stream",
     "text": [
      "0.883533333333\n"
     ]
    }
   ],
   "source": [
    "print(model_rand_l1_w2v.score(X_test_w2v, y_test_w2v))"
   ]
  },
  {
   "cell_type": "raw",
   "metadata": {},
   "source": [
    "Report:\n",
    "    The optimal lambda when used RandomSearchCV with L1 regularizer is 0.91 and the accuracy is 88.353%"
   ]
  },
  {
   "cell_type": "markdown",
   "metadata": {},
   "source": [
    "#  Sparsity with L1 Avg W2V"
   ]
  },
  {
   "cell_type": "code",
   "execution_count": 282,
   "metadata": {},
   "outputs": [
    {
     "name": "stdout",
     "output_type": "stream",
     "text": [
      "acc 0.8842\n",
      "sparsity 48\n"
     ]
    }
   ],
   "source": [
    "import numpy as np\n",
    "\n",
    "clf_1_w2v = LogisticRegression(C=0.1, penalty='l1');\n",
    "clf_1_w2v.fit(X_tr_w2v, y_tr_w2v);\n",
    "print('acc',clf_1_w2v.score(X_test_w2v,y_test_w2v))\n",
    "w_1_w2v = clf_1_w2v.coef_\n",
    "print('sparsity',np.count_nonzero(w_1_w2v))"
   ]
  },
  {
   "cell_type": "raw",
   "metadata": {},
   "source": [
    "Report:\n",
    "    * The error rate is 11.58% when lambda is 0.1 and the number of non zero elements are 48."
   ]
  },
  {
   "cell_type": "code",
   "execution_count": 283,
   "metadata": {},
   "outputs": [
    {
     "name": "stdout",
     "output_type": "stream",
     "text": [
      "acc 0.883333333333\n",
      "sparsity 50\n"
     ]
    }
   ],
   "source": [
    "clf_2_w2v = LogisticRegression(C=1, penalty='l1');\n",
    "clf_2_w2v.fit(X_tr_w2v, y_tr_w2v);\n",
    "print('acc',clf_2_w2v.score(X_test_w2v,y_test_w2v))\n",
    "w_2_w2v = clf_2_w2v.coef_\n",
    "print('sparsity',np.count_nonzero(w_2_w2v))"
   ]
  },
  {
   "cell_type": "raw",
   "metadata": {},
   "source": [
    "Report:\n",
    "    * The error rate is 11.67% when lambda is 1 and the number of non zero elements are 50."
   ]
  },
  {
   "cell_type": "code",
   "execution_count": 284,
   "metadata": {},
   "outputs": [
    {
     "name": "stdout",
     "output_type": "stream",
     "text": [
      "acc 0.8837\n",
      "sparsity 50\n"
     ]
    }
   ],
   "source": [
    "clf_3_w2v = LogisticRegression(C=100, penalty='l1');\n",
    "clf_3_w2v.fit(X_tr_w2v, y_tr_w2v);\n",
    "print('acc',clf_3_w2v.score(X_test_w2v,y_test_w2v))\n",
    "w_3_w2v = clf_3_w2v.coef_\n",
    "print('sparsity',np.count_nonzero(w_3_w2v))"
   ]
  },
  {
   "cell_type": "raw",
   "metadata": {},
   "source": [
    "Report:\n",
    "    * The error rate is 11.62% when lambda is 100 and the number of non zero elements are 50."
   ]
  },
  {
   "cell_type": "markdown",
   "metadata": {},
   "source": [
    "# Multicollinearity Avg W2V"
   ]
  },
  {
   "cell_type": "code",
   "execution_count": 285,
   "metadata": {},
   "outputs": [
    {
     "name": "stdout",
     "output_type": "stream",
     "text": [
      "[ 0.05373827]\n"
     ]
    }
   ],
   "source": [
    "# Adding Noise to the matrix\n",
    "mu, sigma = 0, 0.1\n",
    "s = np.random.normal(mu, sigma, 1)\n",
    "print(s)"
   ]
  },
  {
   "cell_type": "code",
   "execution_count": 136,
   "metadata": {},
   "outputs": [
    {
     "data": {
      "text/plain": [
       "array([ 0.44188607, -0.11082012,  0.11923695, -0.39371548, -0.01757231,\n",
       "        0.55770447,  0.31380234, -0.60181747, -0.10743466,  0.22502994,\n",
       "       -0.59566127,  0.27098435,  0.04081101, -0.13775745, -0.5128596 ,\n",
       "        0.75088135,  0.60063419,  0.54239213,  0.11818313, -0.58889848,\n",
       "       -0.27934573,  0.1439522 ,  0.56386373,  1.11674491, -0.42911389,\n",
       "        0.41811838,  0.67825835,  0.28803299,  0.35926605,  0.59986197,\n",
       "       -0.63473861, -0.26303549,  0.0506224 ,  0.15325701, -0.05400344,\n",
       "       -0.22297534,  0.11594248, -0.45334876,  0.15019477,  0.32380784,\n",
       "       -0.48239108, -0.28310504,  0.344402  ,  0.96474976, -0.62155364,\n",
       "       -0.29880266, -0.26324255,  0.32983154, -0.25016528, -1.00039061])"
      ]
     },
     "execution_count": 136,
     "metadata": {},
     "output_type": "execute_result"
    }
   ],
   "source": [
    "sent_vectors[0]"
   ]
  },
  {
   "cell_type": "code",
   "execution_count": 139,
   "metadata": {
    "collapsed": true
   },
   "outputs": [],
   "source": [
    "noise_vector_w2v = [i * 0.05373827 for i in sent_vectors] # adding noise to the vector"
   ]
  },
  {
   "cell_type": "code",
   "execution_count": 228,
   "metadata": {},
   "outputs": [
    {
     "data": {
      "text/plain": [
       "array([ 0.02374619, -0.00595528,  0.00640759, -0.02115759, -0.00094431,\n",
       "        0.02997007,  0.01686319, -0.03234063, -0.00577335,  0.01209272,\n",
       "       -0.03200981,  0.01456223,  0.00219311, -0.00740285, -0.02756019,\n",
       "        0.04035106,  0.03227704,  0.02914721,  0.00635096, -0.03164639,\n",
       "       -0.01501156,  0.00773574,  0.03030106,  0.06001194, -0.02305984,\n",
       "        0.02246896,  0.03644843,  0.01547839,  0.01930634,  0.03223554,\n",
       "       -0.03410976, -0.01413507,  0.00272036,  0.00823577, -0.00290205,\n",
       "       -0.01198231,  0.00623055, -0.02436218,  0.00807121,  0.01740087,\n",
       "       -0.02592286, -0.01521358,  0.01850757,  0.05184398, -0.03340122,\n",
       "       -0.01605714, -0.0141462 ,  0.01772458, -0.01344345, -0.05375926])"
      ]
     },
     "execution_count": 228,
     "metadata": {},
     "output_type": "execute_result"
    }
   ],
   "source": [
    "noise_vector_w2v[0]"
   ]
  },
  {
   "cell_type": "code",
   "execution_count": 141,
   "metadata": {
    "collapsed": true
   },
   "outputs": [],
   "source": [
    "# split the data set into train and test\n",
    "X_1_w2v_mul, X_test_w2v_mul, y_1_w2v_mul, y_test_w2v_mul = cross_validation.train_test_split(noise_vector_w2v, sample_labels, test_size=0.3, random_state=0)\n",
    "\n",
    "# split the train data set into cross validation train and cross validation test\n",
    "X_tr_w2v_mul, X_cv_w2v_mul, y_tr_w2v_mul, y_cv_w2v_mul = cross_validation.train_test_split(X_1_w2v_mul, y_1_w2v_mul, test_size=0.3)"
   ]
  },
  {
   "cell_type": "code",
   "execution_count": 142,
   "metadata": {},
   "outputs": [
    {
     "name": "stdout",
     "output_type": "stream",
     "text": [
      "\n",
      "The accuracy of the Logistic Regression for C = 1.000000 is 87.250000%\n"
     ]
    }
   ],
   "source": [
    "# instantiate learning model k = optimal_k\n",
    "optimal_aplha_w2v=1\n",
    "log_reg_optimal_w2v_mul = LogisticRegression(C=optimal_aplha_w2v)\n",
    "\n",
    "# fitting the model\n",
    "log_reg_optimal_w2v_mul.fit(X_tr_w2v_mul, y_tr_w2v_mul)\n",
    "\n",
    "# predict the response\n",
    "pred_w2v_mul = log_reg_optimal_w2v_mul.predict(X_test_w2v_mul)\n",
    "\n",
    "# evaluate accuracy\n",
    "acc_w2v_mul = accuracy_score(y_test_w2v_mul, pred_w2v_mul) * 100\n",
    "print('\\nThe accuracy of the Logistic Regression for C = %f is %f%%' % (optimal_aplha_w2v, acc_w2v_mul))"
   ]
  },
  {
   "cell_type": "code",
   "execution_count": 143,
   "metadata": {},
   "outputs": [
    {
     "name": "stdout",
     "output_type": "stream",
     "text": [
      "(1, 50)\n",
      "[[ -0.52946628   0.4325097    7.99115862   1.55398753   6.86266371\n",
      "   11.31293541  -0.60481716  11.61001414  -6.80116669  12.6609681\n",
      "    0.07297742   4.39949113   4.67354836  -8.18519988   1.7537636\n",
      "   -5.13268185  -5.94731944   7.87460556  -6.29573609  -3.84760909\n",
      "   -7.78393785  -0.44889409   2.80500272   8.96015192 -11.14312205\n",
      "   -3.93184652 -14.29838931  -2.74497703   4.19137862   1.89534764\n",
      "   -5.41071046   1.03903327  -6.41208814  -5.47661896  -8.04055982\n",
      "   -7.05250795  -3.36681588 -10.79145235  -0.62962113  -6.65838344\n",
      "   -9.65503403  -4.97194237  -7.37102992   8.97198237  -5.03058574\n",
      "   -6.16988719  -4.72276893  14.56186151  14.19053535  -6.05073668]]\n"
     ]
    }
   ],
   "source": [
    "weight_multi_w2v = log_reg_optimal_w2v_mul.coef_ # weights with  noise\n",
    "print(weight_multi_w2v.shape)\n",
    "print(weight_multi_w2v)"
   ]
  },
  {
   "cell_type": "code",
   "execution_count": 144,
   "metadata": {},
   "outputs": [
    {
     "name": "stdout",
     "output_type": "stream",
     "text": [
      "(1, 50)\n",
      "[[-0.03579462 -0.63082425  1.06866886 -0.29352074  1.40347648  0.61565648\n",
      "  -1.22930168  0.28273635 -1.66991331  1.17700618  0.19146611  0.09689499\n",
      "   0.45792826 -1.01784316  1.33165397 -0.71172841 -0.2545565   1.1073005\n",
      "  -0.61779611 -0.94173729 -0.08242883 -0.54201401  0.65707153  0.96581498\n",
      "  -1.17252775 -0.95380022 -1.81057379  0.88824571  0.24305723  0.67671295\n",
      "  -0.41579838  0.32646834 -0.16144522 -0.07150347 -0.51035837 -0.75892702\n",
      "   0.46683699 -0.42670059  0.2004345  -1.32867807 -1.43807692 -0.74951363\n",
      "   0.1768732   0.86734874 -1.05419953 -1.03278689 -0.850341    2.27049878\n",
      "   0.85318335 -1.32756014]]\n"
     ]
    }
   ],
   "source": [
    "# Weights from the original matrix which is not added any noise\n",
    "original_weights_w2v = log_reg_optimal_w2v.coef_ # original weights with no noise\n",
    "print(original_weights_w2v.shape)\n",
    "print(original_weights_w2v)"
   ]
  },
  {
   "cell_type": "code",
   "execution_count": 146,
   "metadata": {},
   "outputs": [
    {
     "name": "stdout",
     "output_type": "stream",
     "text": [
      "[ -0.49367167   1.06333394   6.92248976   1.84750827   5.45918723\n",
      "  10.69727894   0.62448452  11.32727779  -5.13125337  11.48396192\n",
      "  -0.11848869   4.30259614   4.21562011  -7.16735672   0.42210963\n",
      "  -4.42095344  -5.69276294   6.76730506  -5.67793998  -2.9058718 ]\n"
     ]
    }
   ],
   "source": [
    "diffs_w2v = weight_multi_w2v - original_weights_w2v\n",
    "print(diffs_w2v.flatten()[:20])"
   ]
  },
  {
   "cell_type": "raw",
   "metadata": {},
   "source": [
    "Report:\n",
    "   * I observe the some high difference between the noised and original weights. There is a multicollinearity exists among the features."
   ]
  },
  {
   "cell_type": "markdown",
   "metadata": {},
   "source": [
    "# Avg TF-IDF"
   ]
  },
  {
   "cell_type": "code",
   "execution_count": 223,
   "metadata": {
    "collapsed": true
   },
   "outputs": [],
   "source": [
    "# TF-IDF weighted Word2Vec\n",
    "tfidf_feat = tf_idf_vect.get_feature_names() # tfidf words/col-names\n",
    "# final_tf_idf is the sparse matrix with row= sentence, col=word and cell_val = tfidf\n",
    "\n",
    "tfidf_sent_vectors = []; # the tfidf-w2v for each sentence/review is stored in this list\n",
    "row=0;\n",
    "for sent in list_of_sent: # for each review/sentence\n",
    "    sent_vec = np.zeros(50) # as word vectors are of zero length\n",
    "    weight_sum =0; # num of words with a valid vector in the sentence/review\n",
    "    for word in sent: # for each word in a review/sentence\n",
    "        try:\n",
    "            vec = w2v_model.wv[word]\n",
    "            # obtain the tf_idfidf of a word in a sentence/review\n",
    "            tfidf = final_tf_idf[row, tfidf_feat.index(word)]\n",
    "            sent_vec = sent_vec + (vec * tfidf)\n",
    "            weight_sum = weight_sum + tfidf\n",
    "        except:\n",
    "            pass\n",
    "    sent_vec /= weight_sum\n",
    "    tfidf_sent_vectors.append(sent_vec)\n",
    "    row += 1"
   ]
  },
  {
   "cell_type": "code",
   "execution_count": 224,
   "metadata": {},
   "outputs": [
    {
     "name": "stdout",
     "output_type": "stream",
     "text": [
      "[ 0.51174193 -0.31839725 -0.0983731  -0.45661953 -0.03104173  0.74640964\n",
      "  0.37032675 -0.45300674  0.14048464  0.29848582 -0.66721124 -0.02924557\n",
      "  0.06185449  0.01144127 -0.2198804   0.43754997  0.51305779  0.535481\n",
      " -0.05857565 -0.55156766 -0.19699542  0.32552092  0.49812863  1.05022886\n",
      " -0.46880077  0.13185008  0.45662794  0.01598062  0.22679811  0.54983921\n",
      " -0.51309875 -0.25350072  0.1427328   0.04749266  0.11206363 -0.06661182\n",
      "  0.34600351 -0.37654656 -0.01306791  0.29597598 -0.46505005  0.03232198\n",
      "  0.26106422  0.75008766 -0.62458911 -0.41358922 -0.1428284   0.49983785\n",
      " -0.08443853 -0.67937754]\n"
     ]
    }
   ],
   "source": [
    "print(tfidf_sent_vectors[0])"
   ]
  },
  {
   "cell_type": "code",
   "execution_count": 225,
   "metadata": {},
   "outputs": [
    {
     "name": "stdout",
     "output_type": "stream",
     "text": [
      "100000\n"
     ]
    }
   ],
   "source": [
    "print(len(tfidf_sent_vectors))"
   ]
  },
  {
   "cell_type": "markdown",
   "metadata": {},
   "source": [
    "# Train,CV,Test - AvgTF-IDF"
   ]
  },
  {
   "cell_type": "code",
   "execution_count": 226,
   "metadata": {
    "collapsed": true
   },
   "outputs": [],
   "source": [
    "# split the data set into train and test\n",
    "X_1_avg_tf, X_test_avg_tf, y_1_avg_tf, y_test_avg_tf = cross_validation.train_test_split(tfidf_sent_vectors, sample_labels, test_size=0.3, random_state=0)\n",
    "\n",
    "# split the train data set into cross validation train and cross validation test\n",
    "X_tr_avg_tf, X_cv_avg_tf, y_tr_avg_tf, y_cv_avg_tf = cross_validation.train_test_split(X_1_avg_tf, y_1_avg_tf, test_size=0.3)"
   ]
  },
  {
   "cell_type": "code",
   "execution_count": 250,
   "metadata": {},
   "outputs": [
    {
     "name": "stdout",
     "output_type": "stream",
     "text": [
      "False\n"
     ]
    }
   ],
   "source": [
    "X_tr_avg_tf = pd.DataFrame(data=X_tr_avg_tf)\n",
    "X_tr_avg_tf = X_tr_avg_tf.fillna(X_tr_avg_tf.mean())\n",
    "print(X_tr_avg_tf.isnull().values.any())"
   ]
  },
  {
   "cell_type": "code",
   "execution_count": 251,
   "metadata": {},
   "outputs": [
    {
     "name": "stdout",
     "output_type": "stream",
     "text": [
      "[0.85916313381243659, 0.87159168044521618, 0.87259169298505967, 0.87340803201641626, 0.87332638270022933, 0.87330595787893794, 0.87328554554989135]\n"
     ]
    }
   ],
   "source": [
    "C_Val = [0.001, 0.01, 0.1, 1, 10, 100, 1000]\n",
    "cv_scores_avg_tf = []\n",
    "for val in C_Val:\n",
    "    Log_reg_avg_tf = LogisticRegression(C=val)\n",
    "    scores_avg_tf = cross_val_score(Log_reg_avg_tf, X_tr_avg_tf, y_tr_avg_tf, cv=10, scoring='accuracy')\n",
    "    cv_scores_avg_tf.append(scores_avg_tf.mean())\n",
    "print(cv_scores_avg_tf)"
   ]
  },
  {
   "cell_type": "code",
   "execution_count": 252,
   "metadata": {},
   "outputs": [
    {
     "name": "stdout",
     "output_type": "stream",
     "text": [
      "\n",
      "The optimal number of alpha is 1.\n"
     ]
    }
   ],
   "source": [
    "# changing to misclassification error\n",
    "MSE_avg_tf = [1 - x for x in cv_scores_avg_tf]\n",
    "\n",
    "# determining best k\n",
    "optimal_aplha_avg_tf = C_Val[MSE_avg_tf.index(min(MSE_avg_tf))]\n",
    "print('\\nThe optimal number of alpha is %d.' % optimal_aplha_avg_tf)"
   ]
  },
  {
   "cell_type": "code",
   "execution_count": 253,
   "metadata": {},
   "outputs": [
    {
     "data": {
      "image/png": "[encoded data removed]",
      "text/plain": [
       "<matplotlib.figure.Figure at 0x2900cdb00>"
      ]
     },
     "metadata": {},
     "output_type": "display_data"
    },
    {
     "name": "stdout",
     "output_type": "stream",
     "text": [
      "the misclassification error for each alpha is :  [ 0.141  0.128  0.127  0.127  0.127  0.127  0.127]\n"
     ]
    }
   ],
   "source": [
    "# plot misclassification error vs alpha \n",
    "plt.plot(C_Val, MSE_avg_tf)\n",
    "\n",
    "for xy in zip(C_Val, np.round(MSE_avg_tf,3)):\n",
    "    plt.annotate('(%s, %s)' % xy, xy=xy, textcoords='data')\n",
    "\n",
    "plt.xlabel('Number of aplha points')\n",
    "plt.ylabel('Misclassification Error')\n",
    "plt.title('MSE')\n",
    "plt.show()\n",
    "\n",
    "print(\"the misclassification error for each alpha is : \", np.round(MSE_avg_tf,3))"
   ]
  },
  {
   "cell_type": "code",
   "execution_count": 255,
   "metadata": {},
   "outputs": [
    {
     "name": "stdout",
     "output_type": "stream",
     "text": [
      "\n",
      "The accuracy of the Logistic Regression for C = 1.000000 is 87.513333%\n"
     ]
    }
   ],
   "source": [
    "# instantiate learning model k = optimal_k\n",
    "optimal_aplha_avg_tf=1\n",
    "log_reg_optimal_avg_tf = LogisticRegression(C=optimal_aplha_avg_tf)\n",
    "\n",
    "# fitting the model\n",
    "log_reg_optimal_avg_tf.fit(X_tr_avg_tf, y_tr_avg_tf)\n",
    "\n",
    "# predict the response\n",
    "pred_avg_tf = log_reg_optimal_avg_tf.predict(X_test_avg_tf)\n",
    "\n",
    "# evaluate accuracy\n",
    "acc_avg_tf = accuracy_score(y_test_avg_tf, pred_avg_tf) * 100\n",
    "print('\\nThe accuracy of the Logistic Regression for C = %f is %f%%' % (optimal_aplha_avg_tf, acc_avg_tf))"
   ]
  },
  {
   "cell_type": "markdown",
   "metadata": {},
   "source": [
    "# GridSearch Avg TF-IDF"
   ]
  },
  {
   "cell_type": "code",
   "execution_count": 256,
   "metadata": {},
   "outputs": [
    {
     "name": "stdout",
     "output_type": "stream",
     "text": [
      "LogisticRegression(C=1, class_weight=None, dual=False, fit_intercept=True,\n",
      "          intercept_scaling=1, max_iter=100, multi_class='ovr', n_jobs=-1,\n",
      "          penalty='l2', random_state=None, solver='liblinear', tol=0.0001,\n",
      "          verbose=0, warm_start=False)\n"
     ]
    }
   ],
   "source": [
    "from sklearn.grid_search import GridSearchCV\n",
    "from sklearn.linear_model import LogisticRegression\n",
    "tuned_parameters = [{'C': [10**-4, 10**-2, 10**0, 10**2, 10**4]}]\n",
    "model_avg_tf_l2 = GridSearchCV(LogisticRegression(n_jobs=-1), tuned_parameters, scoring = 'accuracy', cv=5)\n",
    "model_avg_tf_l2.fit(X_tr_avg_tf, y_tr_avg_tf)\n",
    "print(model_avg_tf_l2.best_estimator_)"
   ]
  },
  {
   "cell_type": "code",
   "execution_count": 257,
   "metadata": {},
   "outputs": [
    {
     "name": "stdout",
     "output_type": "stream",
     "text": [
      "0.875133333333\n"
     ]
    }
   ],
   "source": [
    "print(model_avg_tf_l2.score(X_test_avg_tf, y_test_avg_tf))"
   ]
  },
  {
   "cell_type": "raw",
   "metadata": {},
   "source": [
    "Report:\n",
    "    The optimal lambda when used GridSearchCV with L2 regularizer is 1 and the accuracy is 87.5%"
   ]
  },
  {
   "cell_type": "code",
   "execution_count": 260,
   "metadata": {},
   "outputs": [
    {
     "name": "stdout",
     "output_type": "stream",
     "text": [
      "LogisticRegression(C=1, class_weight=None, dual=False, fit_intercept=True,\n",
      "          intercept_scaling=1, max_iter=100, multi_class='ovr', n_jobs=-1,\n",
      "          penalty='l1', random_state=None, solver='liblinear', tol=0.0001,\n",
      "          verbose=0, warm_start=False)\n"
     ]
    }
   ],
   "source": [
    "from sklearn.grid_search import GridSearchCV\n",
    "from sklearn.linear_model import LogisticRegression\n",
    "tuned_parameters = [{'C': [10**-4, 10**-2, 10**0, 10**2, 10**4]}]\n",
    "model_avg_tf_l1 = GridSearchCV(LogisticRegression(penalty='l1',n_jobs=-1), tuned_parameters, scoring = 'accuracy', cv=5)\n",
    "model_avg_tf_l1.fit(X_tr_avg_tf, y_tr_avg_tf)\n",
    "print(model_avg_tf_l1.best_estimator_)"
   ]
  },
  {
   "cell_type": "code",
   "execution_count": 261,
   "metadata": {},
   "outputs": [
    {
     "name": "stdout",
     "output_type": "stream",
     "text": [
      "0.875133333333\n"
     ]
    }
   ],
   "source": [
    "print(model_avg_tf_l1.score(X_test_avg_tf, y_test_avg_tf))"
   ]
  },
  {
   "cell_type": "raw",
   "metadata": {},
   "source": [
    "Report:\n",
    "    The optimal lambda when used GridSearchCV with L1 regularizer is 1 and the accuracy is 87.5%"
   ]
  },
  {
   "cell_type": "markdown",
   "metadata": {},
   "source": [
    "# RandomSearchCV AVG TF-IDF"
   ]
  },
  {
   "cell_type": "code",
   "execution_count": 263,
   "metadata": {},
   "outputs": [
    {
     "name": "stdout",
     "output_type": "stream",
     "text": [
      "LogisticRegression(C=0.90660872776219958, class_weight=None, dual=False,\n",
      "          fit_intercept=True, intercept_scaling=1, max_iter=100,\n",
      "          multi_class='ovr', n_jobs=-1, penalty='l2', random_state=None,\n",
      "          solver='liblinear', tol=0.0001, verbose=0, warm_start=False)\n"
     ]
    }
   ],
   "source": [
    "from sklearn.model_selection import RandomizedSearchCV\n",
    "from scipy.stats import uniform\n",
    "tuned_parameters = {'C': uniform.rvs(size=10)}\n",
    "model_rand_l2_avg_tf = RandomizedSearchCV(LogisticRegression(n_jobs=-1), tuned_parameters, scoring = 'accuracy', cv=5)\n",
    "model_rand_l2_avg_tf.fit(X_tr_avg_tf, y_tr_avg_tf)\n",
    "print(model_rand_l2_avg_tf.best_estimator_)"
   ]
  },
  {
   "cell_type": "code",
   "execution_count": 264,
   "metadata": {},
   "outputs": [
    {
     "name": "stdout",
     "output_type": "stream",
     "text": [
      "0.8751\n"
     ]
    }
   ],
   "source": [
    "print(model_rand_l2_avg_tf.score(X_test_avg_tf, y_test_avg_tf))"
   ]
  },
  {
   "cell_type": "raw",
   "metadata": {},
   "source": [
    "Report:\n",
    "    The optimal lambda when used RandomSearchCV with L2 regularizer is 0.90 and the accuracy is 87.5%"
   ]
  },
  {
   "cell_type": "code",
   "execution_count": 266,
   "metadata": {},
   "outputs": [
    {
     "name": "stdout",
     "output_type": "stream",
     "text": [
      "LogisticRegression(C=0.92224403068218885, class_weight=None, dual=False,\n",
      "          fit_intercept=True, intercept_scaling=1, max_iter=100,\n",
      "          multi_class='ovr', n_jobs=-1, penalty='l1', random_state=None,\n",
      "          solver='liblinear', tol=0.0001, verbose=0, warm_start=False)\n"
     ]
    }
   ],
   "source": [
    "from sklearn.model_selection import RandomizedSearchCV\n",
    "from scipy.stats import uniform\n",
    "tuned_parameters = {'C': uniform.rvs(size=10)}\n",
    "model_rand_l1_avg_tf = RandomizedSearchCV(LogisticRegression(penalty='l1',n_jobs=-1), tuned_parameters, scoring = 'accuracy', cv=5)\n",
    "model_rand_l1_avg_tf.fit(X_tr_avg_tf, y_tr_avg_tf)\n",
    "print(model_rand_l1_avg_tf.best_estimator_)"
   ]
  },
  {
   "cell_type": "code",
   "execution_count": 267,
   "metadata": {},
   "outputs": [
    {
     "name": "stdout",
     "output_type": "stream",
     "text": [
      "0.875033333333\n"
     ]
    }
   ],
   "source": [
    "print(model_rand_l1_avg_tf.score(X_test_avg_tf, y_test_avg_tf))"
   ]
  },
  {
   "cell_type": "raw",
   "metadata": {},
   "source": [
    "Report:\n",
    "    The optimal lambda when used RandomSearchCV with L1 regularizer is 0.92 and the accuracy is 87.503%"
   ]
  },
  {
   "cell_type": "markdown",
   "metadata": {},
   "source": [
    "# Sparsity with L1 Avg TF-IDF"
   ]
  },
  {
   "cell_type": "code",
   "execution_count": 269,
   "metadata": {},
   "outputs": [
    {
     "name": "stdout",
     "output_type": "stream",
     "text": [
      "acc 0.875166666667\n",
      "sparsity 49\n"
     ]
    }
   ],
   "source": [
    "import numpy as np\n",
    "\n",
    "clf_1_avg_tf = LogisticRegression(C=0.1, penalty='l1');\n",
    "clf_1_avg_tf.fit(X_tr_avg_tf, y_tr_avg_tf);\n",
    "print('acc',clf_1_avg_tf.score(X_test_avg_tf,y_test_avg_tf))\n",
    "w_1_avg_tf = clf_1_avg_tf.coef_\n",
    "print('sparsity',np.count_nonzero(w_1_avg_tf))"
   ]
  },
  {
   "cell_type": "raw",
   "metadata": {},
   "source": [
    "Report:\n",
    "    * The error rate is 12.5% when lambda is 0.1 and the number of non zero elements are 49."
   ]
  },
  {
   "cell_type": "code",
   "execution_count": 271,
   "metadata": {},
   "outputs": [
    {
     "name": "stdout",
     "output_type": "stream",
     "text": [
      "acc 0.8751\n",
      "sparsity 50\n"
     ]
    }
   ],
   "source": [
    "import numpy as np\n",
    "\n",
    "clf_2_avg_tf = LogisticRegression(C=1, penalty='l1');\n",
    "clf_2_avg_tf.fit(X_tr_avg_tf, y_tr_avg_tf);\n",
    "print('acc',clf_2_avg_tf.score(X_test_avg_tf,y_test_avg_tf))\n",
    "w_2_avg_tf = clf_2_avg_tf.coef_\n",
    "print('sparsity',np.count_nonzero(w_2_avg_tf))"
   ]
  },
  {
   "cell_type": "raw",
   "metadata": {},
   "source": [
    "Report:\n",
    "    * The error rate is 12.5% when lambda is 0.1 and the number of non zero elements are 50."
   ]
  },
  {
   "cell_type": "code",
   "execution_count": 272,
   "metadata": {},
   "outputs": [
    {
     "name": "stdout",
     "output_type": "stream",
     "text": [
      "acc 0.874633333333\n",
      "sparsity 50\n"
     ]
    }
   ],
   "source": [
    "import numpy as np\n",
    "\n",
    "clf_3_avg_tf = LogisticRegression(C=100, penalty='l1');\n",
    "clf_3_avg_tf.fit(X_tr_avg_tf, y_tr_avg_tf);\n",
    "print('acc',clf_3_avg_tf.score(X_test_avg_tf,y_test_avg_tf))\n",
    "w_3_avg_tf = clf_3_avg_tf.coef_\n",
    "print('sparsity',np.count_nonzero(w_3_avg_tf))"
   ]
  },
  {
   "cell_type": "raw",
   "metadata": {},
   "source": [
    "Report:\n",
    "    * The error rate is 12.6% when lambda is 0.1 and the number of non zero elements are 50."
   ]
  },
  {
   "cell_type": "markdown",
   "metadata": {},
   "source": [
    "# Multicollinearity Avg TF-IDF"
   ]
  },
  {
   "cell_type": "code",
   "execution_count": 274,
   "metadata": {},
   "outputs": [
    {
     "name": "stdout",
     "output_type": "stream",
     "text": [
      "[ 0.0989487]\n"
     ]
    }
   ],
   "source": [
    "# Adding Noise to the matrix\n",
    "mu, sigma = 0, 0.1\n",
    "s = np.random.normal(mu, sigma, 1)\n",
    "print(s)"
   ]
  },
  {
   "cell_type": "code",
   "execution_count": 275,
   "metadata": {
    "collapsed": true
   },
   "outputs": [],
   "source": [
    "noise_vector_avg_tf = [i * 0.05373827 for i in tfidf_sent_vectors] # adding noise to the vector"
   ]
  },
  {
   "cell_type": "code",
   "execution_count": 276,
   "metadata": {
    "collapsed": true
   },
   "outputs": [],
   "source": [
    "# split the data set into train and test\n",
    "X_1_avg_tf_mul, X_test_avg_tf_mul, y_1_avg_tf_mul, y_test_avg_tf_mul = cross_validation.train_test_split(noise_vector_avg_tf, sample_labels, test_size=0.3, random_state=0)\n",
    "\n",
    "# split the train data set into cross validation train and cross validation test\n",
    "X_tr_avg_tf_mul, X_cv_avg_tf_mul, y_tr_avg_tf_mul, y_cv_avg_tf_mul = cross_validation.train_test_split(X_1_avg_tf_mul, y_1_avg_tf_mul, test_size=0.3)\n"
   ]
  },
  {
   "cell_type": "code",
   "execution_count": 278,
   "metadata": {},
   "outputs": [
    {
     "name": "stdout",
     "output_type": "stream",
     "text": [
      "False\n"
     ]
    }
   ],
   "source": [
    "X_tr_avg_tf_mul = pd.DataFrame(data=X_tr_avg_tf_mul)\n",
    "X_tr_avg_tf_mul = X_tr_avg_tf_mul.fillna(X_tr_avg_tf_mul.mean())\n",
    "print(X_tr_avg_tf_mul.isnull().values.any())"
   ]
  },
  {
   "cell_type": "code",
   "execution_count": 279,
   "metadata": {},
   "outputs": [
    {
     "name": "stdout",
     "output_type": "stream",
     "text": [
      "\n",
      "The accuracy of the Logistic Regression for C = 1.000000 is 86.883333%\n"
     ]
    }
   ],
   "source": [
    "# instantiate learning model k = optimal_k\n",
    "optimal_aplha_avg_tf=1\n",
    "log_reg_optimal_avg_tf_mul = LogisticRegression(C=optimal_aplha_avg_tf)\n",
    "\n",
    "# fitting the model\n",
    "log_reg_optimal_avg_tf_mul.fit(X_tr_avg_tf_mul, y_tr_avg_tf_mul)\n",
    "\n",
    "# predict the response\n",
    "pred_avg_tf_mul = log_reg_optimal_avg_tf_mul.predict(X_test_avg_tf_mul)\n",
    "\n",
    "# evaluate accuracy\n",
    "acc_avg_tf_mul = accuracy_score(y_test_avg_tf_mul, pred_avg_tf_mul) * 100\n",
    "print('\\nThe accuracy of the Logistic Regression for C = %f is %f%%' % (optimal_aplha_avg_tf, acc_avg_tf_mul))"
   ]
  },
  {
   "cell_type": "code",
   "execution_count": 281,
   "metadata": {},
   "outputs": [
    {
     "name": "stdout",
     "output_type": "stream",
     "text": [
      "(1, 50)\n",
      "[[ -1.19565116   0.41103293   7.06564944   0.81493603   4.09574637\n",
      "    8.3037898   -0.62326072   9.04790841  -4.84543772  12.82962211\n",
      "   -0.3542967    2.34126327   5.24958626  -6.44254015   3.92103852\n",
      "   -5.31366544  -6.31757029   5.59002471  -5.46454393  -3.67195957\n",
      "   -5.5860038    0.75604886   3.48335462   5.6910924   -9.00270042\n",
      "   -2.88634042 -11.47374511  -2.0065696    3.0168884    1.35561793\n",
      "   -5.11312785   0.83582565  -4.42825096  -4.3416799   -7.86835189\n",
      "   -4.25957792  -2.57486799  -8.77514814   0.90481247  -5.15872323\n",
      "   -7.36369565  -3.53351386  -7.10148978   6.70523092  -2.65867674\n",
      "   -5.36206246  -4.50533019  13.01652552  11.6936484   -7.60582925]]\n"
     ]
    }
   ],
   "source": [
    "weight_multi_avg_tf = log_reg_optimal_avg_tf_mul.coef_ # weights with  noise\n",
    "print(weight_multi_avg_tf.shape)\n",
    "print(weight_multi_avg_tf)"
   ]
  },
  {
   "cell_type": "code",
   "execution_count": 282,
   "metadata": {},
   "outputs": [
    {
     "name": "stdout",
     "output_type": "stream",
     "text": [
      "(1, 50)\n",
      "[[-0.35042208 -0.76886267  0.74715693 -0.38517252  1.19609365  0.17724906\n",
      "  -1.31677478 -0.14080108 -1.4031288   0.88528776  0.07660364 -0.46738738\n",
      "   0.48238135 -0.89823943  2.21907947 -0.62050105 -0.05171797  1.03358181\n",
      "  -0.48203131 -1.35859216 -0.05002123 -0.57944756  0.62722423  1.08151499\n",
      "  -0.56132151 -1.00326308 -0.84906387  0.97961423  0.51344209  0.1636517\n",
      "  -0.43314184  0.57898731  0.3104145   0.4595395  -0.56819258 -0.29638326\n",
      "   0.85111512  0.01564376  0.45161809 -1.16639902 -0.82420767 -0.01403417\n",
      "   0.71379222  0.7425713  -0.90477033 -0.62315891 -0.97662008  1.85285493\n",
      "   0.50334442 -1.47846186]]\n"
     ]
    }
   ],
   "source": [
    "# Weights from the original matrix which is not added any noise\n",
    "original_weights_avg_tf = log_reg_optimal_avg_tf.coef_ # original weights with no noise\n",
    "print(original_weights_avg_tf.shape)\n",
    "print(original_weights_avg_tf)"
   ]
  },
  {
   "cell_type": "code",
   "execution_count": 283,
   "metadata": {},
   "outputs": [
    {
     "name": "stdout",
     "output_type": "stream",
     "text": [
      "[ -0.84522908   1.1798956    6.31849251   1.20010855   2.89965272\n",
      "   8.12654075   0.69351406   9.1887095   -3.44230892  11.94433436\n",
      "  -0.43090034   2.80865065   4.76720491  -5.54430072   1.70195905\n",
      "  -4.69316439  -6.26585231   4.5564429   -4.98251261  -2.31336741]\n"
     ]
    }
   ],
   "source": [
    "diffs_avg_tf = weight_multi_avg_tf - original_weights_avg_tf\n",
    "print(diffs_avg_tf.flatten()[:20])"
   ]
  },
  {
   "cell_type": "raw",
   "metadata": {},
   "source": [
    "Report:\n",
    "   * I observe the some high difference between the noised and original weights. There is a multicollinearity exists among the features."
   ]
  },
  {
   "cell_type": "raw",
   "metadata": {},
   "source": [
    "Final Report:\n",
    "    * There is no multicollinearity for Bag of Words and TF-IDF because these both are vectorizations but when I implemented Avg W2V and Avg TF-IDF there exists multicollinearity because these are embeddings and we find the similarity between the words only without providing the sentence in which they occur.\n",
    "    * Tested multicollinearity by adding noise to the original weights and compared with weights + noise and original weights."
   ]
  },
  {
   "cell_type": "code",
   "execution_count": null,
   "metadata": {
    "collapsed": true
   },
   "outputs": [],
   "source": []
  }
 ],
 "metadata": {
  "kernelspec": {
   "display_name": "Python 3",
   "language": "python",
   "name": "python3"
  },
  "language_info": {
   "codemirror_mode": {
    "name": "ipython",
    "version": 3
   },
   "file_extension": ".py",
   "mimetype": "text/x-python",
   "name": "python",
   "nbconvert_exporter": "python",
   "pygments_lexer": "ipython3",
   "version": "3.6.1"
  }
 },
 "nbformat": 4,
 "nbformat_minor": 2
}
