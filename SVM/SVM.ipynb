{
 "cells": [
  {
   "cell_type": "markdown",
   "metadata": {},
   "source": [
    "# Amazon Fine Food Review Analysis using SVM"
   ]
  },
  {
   "cell_type": "raw",
   "metadata": {},
   "source": [
    "Objective : Given a dataset, find  \n",
    "    * optimal alpha and sigma using GridSearch and RandomSearch.\n",
    "    for all the feature vectorizations like Bag of Words(BOW), TF-IDF,Avg W2v and Avg TF-IDF"
   ]
  },
  {
   "cell_type": "code",
   "execution_count": 2,
   "metadata": {
    "collapsed": true
   },
   "outputs": [],
   "source": [
    "%matplotlib inline\n",
    "\n",
    "import sqlite3\n",
    "import pandas as pd\n",
    "import seaborn as sn\n",
    "import numpy as np\n",
    "import nltk\n",
    "import string\n",
    "import matplotlib.pyplot as plt\n",
    "import seaborn as sns\n",
    "from sklearn.feature_extraction.text import TfidfTransformer\n",
    "from sklearn.feature_extraction.text import TfidfVectorizer\n",
    "from sklearn.feature_extraction.text import CountVectorizer\n",
    "from sklearn.metrics import confusion_matrix\n",
    "from sklearn import metrics\n",
    "from sklearn.metrics import roc_curve, auc\n",
    "from nltk.stem.porter import PorterStemmer\n",
    "from sklearn.preprocessing import StandardScaler\n",
    "from sklearn.cross_validation import train_test_split\n",
    "from sklearn.neighbors import KNeighborsClassifier\n",
    "from sklearn.metrics import accuracy_score\n",
    "from sklearn.cross_validation import cross_val_score\n",
    "from collections import Counter\n",
    "from sklearn import cross_validation\n",
    "from sklearn.svm import SVC\n",
    "from sklearn import linear_model\n",
    "import warnings\n",
    "warnings.filterwarnings(\"ignore\")"
   ]
  },
  {
   "cell_type": "code",
   "execution_count": 3,
   "metadata": {
    "collapsed": true
   },
   "outputs": [],
   "source": [
    "# using the SQLite Table to read data.\n",
    "con = sqlite3.connect('final.sqlite') "
   ]
  },
  {
   "cell_type": "code",
   "execution_count": 4,
   "metadata": {},
   "outputs": [
    {
     "name": "stdout",
     "output_type": "stream",
     "text": [
      "positive    307061\n",
      "negative     57110\n",
      "Name: Score, dtype: int64\n"
     ]
    }
   ],
   "source": [
    "data = pd.read_sql_query(\"\"\"SELECT * FROM Reviews\"\"\", con)\n",
    "labels_count = data['Score'].value_counts()\n",
    "#labels = sorted_data['Score']\n",
    "print(labels_count)"
   ]
  },
  {
   "cell_type": "code",
   "execution_count": 5,
   "metadata": {},
   "outputs": [
    {
     "name": "stdout",
     "output_type": "stream",
     "text": [
      "(364171,)\n",
      "(364171, 12)\n"
     ]
    }
   ],
   "source": [
    "# TIme based sorting\n",
    "sorted_data=data.sort_values('Time', axis=0, ascending=True, inplace=False, kind='quicksort', na_position='last')\n",
    "labels = sorted_data['Score']\n",
    "print(labels.shape)\n",
    "print(sorted_data.shape)"
   ]
  },
  {
   "cell_type": "code",
   "execution_count": 6,
   "metadata": {},
   "outputs": [
    {
     "data": {
      "text/html": [
       "<div>\n",
       "<style>\n",
       "    .dataframe thead tr:only-child th {\n",
       "        text-align: right;\n",
       "    }\n",
       "\n",
       "    .dataframe thead th {\n",
       "        text-align: left;\n",
       "    }\n",
       "\n",
       "    .dataframe tbody tr th {\n",
       "        vertical-align: top;\n",
       "    }\n",
       "</style>\n",
       "<table border=\"1\" class=\"dataframe\">\n",
       "  <thead>\n",
       "    <tr style=\"text-align: right;\">\n",
       "      <th></th>\n",
       "      <th>index</th>\n",
       "      <th>Id</th>\n",
       "      <th>ProductId</th>\n",
       "      <th>UserId</th>\n",
       "      <th>ProfileName</th>\n",
       "      <th>HelpfulnessNumerator</th>\n",
       "      <th>HelpfulnessDenominator</th>\n",
       "      <th>Score</th>\n",
       "      <th>Time</th>\n",
       "      <th>Summary</th>\n",
       "      <th>Text</th>\n",
       "      <th>CleanedText</th>\n",
       "    </tr>\n",
       "  </thead>\n",
       "  <tbody>\n",
       "    <tr>\n",
       "      <th>0</th>\n",
       "      <td>138706</td>\n",
       "      <td>150524</td>\n",
       "      <td>0006641040</td>\n",
       "      <td>ACITT7DI6IDDL</td>\n",
       "      <td>shari zychinski</td>\n",
       "      <td>0</td>\n",
       "      <td>0</td>\n",
       "      <td>positive</td>\n",
       "      <td>939340800</td>\n",
       "      <td>EVERY book is educational</td>\n",
       "      <td>this witty little book makes my son laugh at l...</td>\n",
       "      <td>b'witti littl book make son laugh loud recit c...</td>\n",
       "    </tr>\n",
       "    <tr>\n",
       "      <th>30</th>\n",
       "      <td>138683</td>\n",
       "      <td>150501</td>\n",
       "      <td>0006641040</td>\n",
       "      <td>AJ46FKXOVC7NR</td>\n",
       "      <td>Nicholas A Mesiano</td>\n",
       "      <td>2</td>\n",
       "      <td>2</td>\n",
       "      <td>positive</td>\n",
       "      <td>940809600</td>\n",
       "      <td>This whole series is great way to spend time w...</td>\n",
       "      <td>I can remember seeing the show when it aired o...</td>\n",
       "      <td>b'rememb see show air televis year ago child s...</td>\n",
       "    </tr>\n",
       "    <tr>\n",
       "      <th>424</th>\n",
       "      <td>417839</td>\n",
       "      <td>451856</td>\n",
       "      <td>B00004CXX9</td>\n",
       "      <td>AIUWLEQ1ADEG5</td>\n",
       "      <td>Elizabeth Medina</td>\n",
       "      <td>0</td>\n",
       "      <td>0</td>\n",
       "      <td>positive</td>\n",
       "      <td>944092800</td>\n",
       "      <td>Entertainingl Funny!</td>\n",
       "      <td>Beetlejuice is a well written movie ..... ever...</td>\n",
       "      <td>b'beetlejuic well written movi everyth excel a...</td>\n",
       "    </tr>\n",
       "    <tr>\n",
       "      <th>330</th>\n",
       "      <td>346055</td>\n",
       "      <td>374359</td>\n",
       "      <td>B00004CI84</td>\n",
       "      <td>A344SMIA5JECGM</td>\n",
       "      <td>Vincent P. Ross</td>\n",
       "      <td>1</td>\n",
       "      <td>2</td>\n",
       "      <td>positive</td>\n",
       "      <td>944438400</td>\n",
       "      <td>A modern day fairy tale</td>\n",
       "      <td>A twist of rumplestiskin captured on film, sta...</td>\n",
       "      <td>b'twist rumplestiskin captur film star michael...</td>\n",
       "    </tr>\n",
       "    <tr>\n",
       "      <th>423</th>\n",
       "      <td>417838</td>\n",
       "      <td>451855</td>\n",
       "      <td>B00004CXX9</td>\n",
       "      <td>AJH6LUC1UT1ON</td>\n",
       "      <td>The Phantom of the Opera</td>\n",
       "      <td>0</td>\n",
       "      <td>0</td>\n",
       "      <td>positive</td>\n",
       "      <td>946857600</td>\n",
       "      <td>FANTASTIC!</td>\n",
       "      <td>Beetlejuice is an excellent and funny movie. K...</td>\n",
       "      <td>b'beetlejuic excel funni movi keaton hilari wa...</td>\n",
       "    </tr>\n",
       "  </tbody>\n",
       "</table>\n",
       "</div>"
      ],
      "text/plain": [
       "      index      Id   ProductId          UserId               ProfileName  \\\n",
       "0    138706  150524  0006641040   ACITT7DI6IDDL           shari zychinski   \n",
       "30   138683  150501  0006641040   AJ46FKXOVC7NR        Nicholas A Mesiano   \n",
       "424  417839  451856  B00004CXX9   AIUWLEQ1ADEG5          Elizabeth Medina   \n",
       "330  346055  374359  B00004CI84  A344SMIA5JECGM           Vincent P. Ross   \n",
       "423  417838  451855  B00004CXX9   AJH6LUC1UT1ON  The Phantom of the Opera   \n",
       "\n",
       "     HelpfulnessNumerator  HelpfulnessDenominator     Score       Time  \\\n",
       "0                       0                       0  positive  939340800   \n",
       "30                      2                       2  positive  940809600   \n",
       "424                     0                       0  positive  944092800   \n",
       "330                     1                       2  positive  944438400   \n",
       "423                     0                       0  positive  946857600   \n",
       "\n",
       "                                               Summary  \\\n",
       "0                            EVERY book is educational   \n",
       "30   This whole series is great way to spend time w...   \n",
       "424                               Entertainingl Funny!   \n",
       "330                            A modern day fairy tale   \n",
       "423                                         FANTASTIC!   \n",
       "\n",
       "                                                  Text  \\\n",
       "0    this witty little book makes my son laugh at l...   \n",
       "30   I can remember seeing the show when it aired o...   \n",
       "424  Beetlejuice is a well written movie ..... ever...   \n",
       "330  A twist of rumplestiskin captured on film, sta...   \n",
       "423  Beetlejuice is an excellent and funny movie. K...   \n",
       "\n",
       "                                           CleanedText  \n",
       "0    b'witti littl book make son laugh loud recit c...  \n",
       "30   b'rememb see show air televis year ago child s...  \n",
       "424  b'beetlejuic well written movi everyth excel a...  \n",
       "330  b'twist rumplestiskin captur film star michael...  \n",
       "423  b'beetlejuic excel funni movi keaton hilari wa...  "
      ]
     },
     "execution_count": 6,
     "metadata": {},
     "output_type": "execute_result"
    }
   ],
   "source": [
    "sorted_data.head()         # Time is in ascending order which means the dataset is of Time Based slicing."
   ]
  },
  {
   "cell_type": "code",
   "execution_count": 7,
   "metadata": {},
   "outputs": [
    {
     "data": {
      "text/plain": [
       "b'witti littl book make son laugh loud recit car drive along alway sing refrain hes learn whale india droop love new word book introduc silli classic book will bet son still abl recit memori colleg'"
      ]
     },
     "execution_count": 7,
     "metadata": {},
     "output_type": "execute_result"
    }
   ],
   "source": [
    "sorted_data['CleanedText'][0]"
   ]
  },
  {
   "cell_type": "markdown",
   "metadata": {},
   "source": [
    "# Bag of Words"
   ]
  },
  {
   "cell_type": "code",
   "execution_count": 9,
   "metadata": {},
   "outputs": [
    {
     "name": "stdout",
     "output_type": "stream",
     "text": [
      "(100000, 12)\n",
      "(100000,)\n"
     ]
    }
   ],
   "source": [
    "sample_data = sorted_data.sample(n=100000)\n",
    "print(sample_data.shape)\n",
    "sample_labels = sample_data['Score']\n",
    "print(sample_labels.shape)"
   ]
  },
  {
   "cell_type": "code",
   "execution_count": 10,
   "metadata": {},
   "outputs": [
    {
     "data": {
      "text/html": [
       "<div>\n",
       "<style>\n",
       "    .dataframe thead tr:only-child th {\n",
       "        text-align: right;\n",
       "    }\n",
       "\n",
       "    .dataframe thead th {\n",
       "        text-align: left;\n",
       "    }\n",
       "\n",
       "    .dataframe tbody tr th {\n",
       "        vertical-align: top;\n",
       "    }\n",
       "</style>\n",
       "<table border=\"1\" class=\"dataframe\">\n",
       "  <thead>\n",
       "    <tr style=\"text-align: right;\">\n",
       "      <th></th>\n",
       "      <th>index</th>\n",
       "      <th>Id</th>\n",
       "      <th>ProductId</th>\n",
       "      <th>UserId</th>\n",
       "      <th>ProfileName</th>\n",
       "      <th>HelpfulnessNumerator</th>\n",
       "      <th>HelpfulnessDenominator</th>\n",
       "      <th>Score</th>\n",
       "      <th>Time</th>\n",
       "      <th>Summary</th>\n",
       "      <th>Text</th>\n",
       "      <th>CleanedText</th>\n",
       "    </tr>\n",
       "  </thead>\n",
       "  <tbody>\n",
       "    <tr>\n",
       "      <th>268555</th>\n",
       "      <td>346760</td>\n",
       "      <td>375104</td>\n",
       "      <td>B003CG16OS</td>\n",
       "      <td>AR3Q8CIM1S4JW</td>\n",
       "      <td>J. C. Provenz</td>\n",
       "      <td>0</td>\n",
       "      <td>0</td>\n",
       "      <td>positive</td>\n",
       "      <td>1335052800</td>\n",
       "      <td>Yum!!!</td>\n",
       "      <td>I love this baby food.  I'd eat it.  Its safe,...</td>\n",
       "      <td>b'love babi food eat safe healthi simpl ingred...</td>\n",
       "    </tr>\n",
       "    <tr>\n",
       "      <th>2161</th>\n",
       "      <td>17116</td>\n",
       "      <td>18669</td>\n",
       "      <td>B00008JOL0</td>\n",
       "      <td>AS5VIFYZBZTSA</td>\n",
       "      <td>3chis&amp;amp;adobe</td>\n",
       "      <td>0</td>\n",
       "      <td>0</td>\n",
       "      <td>positive</td>\n",
       "      <td>1346716800</td>\n",
       "      <td>Great product</td>\n",
       "      <td>I thought I would try these as a last attempt ...</td>\n",
       "      <td>b'thought would tri last attempt get dog take ...</td>\n",
       "    </tr>\n",
       "    <tr>\n",
       "      <th>173243</th>\n",
       "      <td>22358</td>\n",
       "      <td>24472</td>\n",
       "      <td>B001E96JYC</td>\n",
       "      <td>A3BH49ZKESHDID</td>\n",
       "      <td>Fred Camfield</td>\n",
       "      <td>0</td>\n",
       "      <td>0</td>\n",
       "      <td>positive</td>\n",
       "      <td>1310947200</td>\n",
       "      <td>Quick microwave meal</td>\n",
       "      <td>Not quite as good as Chinese takeout, but it h...</td>\n",
       "      <td>b'quit good chines takeout conveni keep desk d...</td>\n",
       "    </tr>\n",
       "    <tr>\n",
       "      <th>133378</th>\n",
       "      <td>285318</td>\n",
       "      <td>309089</td>\n",
       "      <td>B000YPA73Q</td>\n",
       "      <td>A7YD7EDTU21UH</td>\n",
       "      <td>Pugsley</td>\n",
       "      <td>0</td>\n",
       "      <td>1</td>\n",
       "      <td>negative</td>\n",
       "      <td>1313366400</td>\n",
       "      <td>Horrible!!!!!!!!!!</td>\n",
       "      <td>I had a coupon for this water and Kroger had i...</td>\n",
       "      <td>b'coupon water kroger sale bought absolut wors...</td>\n",
       "    </tr>\n",
       "    <tr>\n",
       "      <th>219015</th>\n",
       "      <td>262830</td>\n",
       "      <td>284907</td>\n",
       "      <td>B001UUB8WS</td>\n",
       "      <td>AX56F4VSV3FU4</td>\n",
       "      <td>Nancy J \"NJ\"</td>\n",
       "      <td>0</td>\n",
       "      <td>0</td>\n",
       "      <td>positive</td>\n",
       "      <td>1344470400</td>\n",
       "      <td>CoffeeMate is my standard</td>\n",
       "      <td>I prefer CoffeeMate to any other creamer. I bu...</td>\n",
       "      <td>b'prefer coffeem creamer buy individu packet c...</td>\n",
       "    </tr>\n",
       "  </tbody>\n",
       "</table>\n",
       "</div>"
      ],
      "text/plain": [
       "         index      Id   ProductId          UserId      ProfileName  \\\n",
       "268555  346760  375104  B003CG16OS   AR3Q8CIM1S4JW    J. C. Provenz   \n",
       "2161     17116   18669  B00008JOL0   AS5VIFYZBZTSA  3chis&amp;adobe   \n",
       "173243   22358   24472  B001E96JYC  A3BH49ZKESHDID    Fred Camfield   \n",
       "133378  285318  309089  B000YPA73Q   A7YD7EDTU21UH          Pugsley   \n",
       "219015  262830  284907  B001UUB8WS   AX56F4VSV3FU4     Nancy J \"NJ\"   \n",
       "\n",
       "        HelpfulnessNumerator  HelpfulnessDenominator     Score        Time  \\\n",
       "268555                     0                       0  positive  1335052800   \n",
       "2161                       0                       0  positive  1346716800   \n",
       "173243                     0                       0  positive  1310947200   \n",
       "133378                     0                       1  negative  1313366400   \n",
       "219015                     0                       0  positive  1344470400   \n",
       "\n",
       "                          Summary  \\\n",
       "268555                     Yum!!!   \n",
       "2161                Great product   \n",
       "173243       Quick microwave meal   \n",
       "133378         Horrible!!!!!!!!!!   \n",
       "219015  CoffeeMate is my standard   \n",
       "\n",
       "                                                     Text  \\\n",
       "268555  I love this baby food.  I'd eat it.  Its safe,...   \n",
       "2161    I thought I would try these as a last attempt ...   \n",
       "173243  Not quite as good as Chinese takeout, but it h...   \n",
       "133378  I had a coupon for this water and Kroger had i...   \n",
       "219015  I prefer CoffeeMate to any other creamer. I bu...   \n",
       "\n",
       "                                              CleanedText  \n",
       "268555  b'love babi food eat safe healthi simpl ingred...  \n",
       "2161    b'thought would tri last attempt get dog take ...  \n",
       "173243  b'quit good chines takeout conveni keep desk d...  \n",
       "133378  b'coupon water kroger sale bought absolut wors...  \n",
       "219015  b'prefer coffeem creamer buy individu packet c...  "
      ]
     },
     "execution_count": 10,
     "metadata": {},
     "output_type": "execute_result"
    }
   ],
   "source": [
    "sample_data.head()"
   ]
  },
  {
   "cell_type": "markdown",
   "metadata": {},
   "source": [
    "# Train, CV and Test -  BOW"
   ]
  },
  {
   "cell_type": "code",
   "execution_count": 21,
   "metadata": {
    "collapsed": true
   },
   "outputs": [],
   "source": [
    "# split the data set into train and test\n",
    "X_tr, X_test, y_tr, y_test = cross_validation.train_test_split(sample_data['Text'], sample_labels, test_size=0.2, random_state=0)"
   ]
  },
  {
   "cell_type": "code",
   "execution_count": 24,
   "metadata": {
    "collapsed": true
   },
   "outputs": [],
   "source": [
    "# BOW on train data\n",
    "\n",
    "count_vect = CountVectorizer() #in scikit-learn\n",
    "count_vect.fit(X_tr.values)\n",
    "f_c = count_vect.transform(X_tr.values)"
   ]
  },
  {
   "cell_type": "code",
   "execution_count": 28,
   "metadata": {},
   "outputs": [
    {
     "name": "stdout",
     "output_type": "stream",
     "text": [
      "(80000, 55369)\n"
     ]
    }
   ],
   "source": [
    "# Standardization of train data\n",
    "X_tr_standardized_data = StandardScaler(with_mean=False).fit_transform(f_c)\n",
    "print(X_tr_standardized_data.shape)"
   ]
  },
  {
   "cell_type": "code",
   "execution_count": 31,
   "metadata": {},
   "outputs": [
    {
     "name": "stdout",
     "output_type": "stream",
     "text": [
      "[0.88537498058893715, 0.89011246590273396, 0.91014999950316566, 0.90148750840682002, 0.84418750088881966, 0.84333750026354626, 0.84333750026354626]\n"
     ]
    }
   ],
   "source": [
    "C_Val = [0.001, 0.01, 0.1, 1, 10, 100, 1000]\n",
    "cv_scores = []\n",
    "for val in C_Val:\n",
    "    svc_reg = linear_model.SGDClassifier(loss='hinge',alpha=val,n_jobs=-1)\n",
    "    scores = cross_val_score(svc_reg, X_tr_standardized_data, y_tr, cv=3, scoring='accuracy')\n",
    "    cv_scores.append(scores.mean())\n",
    "print(cv_scores)"
   ]
  },
  {
   "cell_type": "code",
   "execution_count": 35,
   "metadata": {},
   "outputs": [
    {
     "name": "stdout",
     "output_type": "stream",
     "text": [
      "\n",
      "The optimal number of alpha is 0.100000.\n"
     ]
    }
   ],
   "source": [
    "# changing to misclassification error\n",
    "MSE = [1 - x for x in cv_scores]\n",
    "# determining best lambda\n",
    "optimal_lambda = C_Val[MSE.index(min(MSE))]\n",
    "print('\\nThe optimal number of alpha is %f.' % optimal_lambda)"
   ]
  },
  {
   "cell_type": "code",
   "execution_count": 36,
   "metadata": {},
   "outputs": [
    {
     "data": {
      "image/png": "[encoded data removed]",
      "text/plain": [
       "<matplotlib.figure.Figure at 0x11d1e7b38>"
      ]
     },
     "metadata": {},
     "output_type": "display_data"
    },
    {
     "name": "stdout",
     "output_type": "stream",
     "text": [
      "the misclassification error for each alpha is :  [ 0.115  0.11   0.09   0.099  0.156  0.157  0.157]\n"
     ]
    }
   ],
   "source": [
    "# plot misclassification error vs alpha \n",
    "plt.plot(C_Val, MSE)\n",
    "\n",
    "for xy in zip(C_Val, np.round(MSE,3)):\n",
    "    plt.annotate('(%s, %s)' % xy, xy=xy, textcoords='data')\n",
    "\n",
    "plt.xlabel('Number of lambda points')\n",
    "plt.ylabel('Misclassification Error')\n",
    "plt.title('MSE')\n",
    "plt.show()\n",
    "\n",
    "print(\"the misclassification error for each alpha is : \", np.round(MSE,3))"
   ]
  },
  {
   "cell_type": "code",
   "execution_count": 34,
   "metadata": {},
   "outputs": [
    {
     "name": "stdout",
     "output_type": "stream",
     "text": [
      "(20000, 55369)\n"
     ]
    }
   ],
   "source": [
    "# Applying the vectors of train data on the test data\n",
    "\n",
    "final_counts_x_test = count_vect.transform(X_test.values)\n",
    "standardized_data_X_test = StandardScaler(with_mean=False).fit_transform(final_counts_x_test)\n",
    "print(standardized_data_X_test.shape)"
   ]
  },
  {
   "cell_type": "code",
   "execution_count": 43,
   "metadata": {},
   "outputs": [
    {
     "name": "stdout",
     "output_type": "stream",
     "text": [
      "\n",
      "The accuracy of the SGD Classifier with hinge loss for alpha = 0.100000 is 91.405000%\n"
     ]
    }
   ],
   "source": [
    "# instantiate learning model k = optimal_k\n",
    "svc_reg_optimal = linear_model.SGDClassifier(loss='hinge',alpha=optimal_lambda,n_jobs=-1)\n",
    "\n",
    "# fitting the model\n",
    "svc_reg_optimal.fit(X_tr_standardized_data, y_tr)\n",
    "\n",
    "# predict the response\n",
    "pred = svc_reg_optimal.predict(standardized_data_X_test)\n",
    "\n",
    "# evaluate accuracy\n",
    "acc = accuracy_score(y_test, pred) * 100\n",
    "print('\\nThe accuracy of the SGD Classifier with hinge loss for alpha = %f is %f%%' % (optimal_lambda, acc))"
   ]
  },
  {
   "cell_type": "code",
   "execution_count": 45,
   "metadata": {},
   "outputs": [
    {
     "name": "stdout",
     "output_type": "stream",
     "text": [
      "\n",
      "The accuracy of the SVC for C = 0.100000 is 84.610000%\n"
     ]
    }
   ],
   "source": [
    "from sklearn.svm import SVC\n",
    "svc_bow = SVC(C=optimal_lambda)\n",
    "# fitting the model\n",
    "svc_bow.fit(X_tr_standardized_data, y_tr)\n",
    "# predict the response\n",
    "pred = svc_bow.predict(standardized_data_X_test)\n",
    "# evaluate accuracy\n",
    "acc = accuracy_score(y_test, pred) * 100\n",
    "print('\\nThe accuracy of the SVC for C = %f is %f%%' % (optimal_lambda, acc))"
   ]
  },
  {
   "cell_type": "markdown",
   "metadata": {},
   "source": [
    "# GridSearch - BOW"
   ]
  },
  {
   "cell_type": "code",
   "execution_count": 38,
   "metadata": {},
   "outputs": [
    {
     "name": "stdout",
     "output_type": "stream",
     "text": [
      "SGDClassifier(alpha=1, average=False, class_weight=None, epsilon=0.1,\n",
      "       eta0=0.0, fit_intercept=True, l1_ratio=0.15,\n",
      "       learning_rate='optimal', loss='hinge', n_iter=5, n_jobs=-1,\n",
      "       penalty='l2', power_t=0.5, random_state=None, shuffle=True,\n",
      "       verbose=0, warm_start=False)\n"
     ]
    }
   ],
   "source": [
    "# As per the documentation of SGD classifier, here alpha value multiplies the regularization term \n",
    "# and also used to compute learning_rate when set to ‘optimal’.\n",
    "# Therefore one value(alpha) is sufficient and is equivalent to C and gamma in SVC classifier\n",
    "from sklearn.grid_search import GridSearchCV\n",
    "tuned_parameters = [{'alpha': [10**-4, 10**-2, 10**0, 10**2, 10**4]}]\n",
    "model = GridSearchCV(linear_model.SGDClassifier(loss='hinge',n_jobs=-1), tuned_parameters, scoring = 'accuracy', cv=5)\n",
    "model.fit(X_tr_standardized_data, y_tr)\n",
    "print(model.best_estimator_)"
   ]
  },
  {
   "cell_type": "code",
   "execution_count": 39,
   "metadata": {},
   "outputs": [
    {
     "name": "stdout",
     "output_type": "stream",
     "text": [
      "0.903\n"
     ]
    }
   ],
   "source": [
    "print(model.score(standardized_data_X_test, y_test))"
   ]
  },
  {
   "cell_type": "raw",
   "metadata": {},
   "source": [
    "Report:\n",
    "    The optimal lambda when used GridSearchCV with L2 regularizer is 1 and the accuracy is 90.3%"
   ]
  },
  {
   "cell_type": "markdown",
   "metadata": {},
   "source": [
    "# RandomSearchCV BOW"
   ]
  },
  {
   "cell_type": "code",
   "execution_count": 40,
   "metadata": {},
   "outputs": [
    {
     "name": "stdout",
     "output_type": "stream",
     "text": [
      "SGDClassifier(alpha=0.16448503340911746, average=False, class_weight=None,\n",
      "       epsilon=0.1, eta0=0.0, fit_intercept=True, l1_ratio=0.15,\n",
      "       learning_rate='optimal', loss='hinge', n_iter=5, n_jobs=-1,\n",
      "       penalty='l2', power_t=0.5, random_state=None, shuffle=True,\n",
      "       verbose=0, warm_start=False)\n"
     ]
    }
   ],
   "source": [
    "from sklearn.model_selection import RandomizedSearchCV\n",
    "from scipy.stats import uniform\n",
    "tuned_parameters = {'alpha': uniform.rvs(size=10)}\n",
    "model_rand_l2 = RandomizedSearchCV(linear_model.SGDClassifier(loss='hinge',n_jobs=-1), tuned_parameters, scoring = 'accuracy', cv=5)\n",
    "model_rand_l2.fit(X_tr_standardized_data, y_tr)\n",
    "print(model_rand_l2.best_estimator_)"
   ]
  },
  {
   "cell_type": "code",
   "execution_count": 41,
   "metadata": {},
   "outputs": [
    {
     "name": "stdout",
     "output_type": "stream",
     "text": [
      "0.9161\n"
     ]
    }
   ],
   "source": [
    "print(model_rand_l2.score(standardized_data_X_test, y_test))"
   ]
  },
  {
   "cell_type": "raw",
   "metadata": {},
   "source": [
    "Report:\n",
    "    The optimal lambda when used RandomSearchCV with L2 regularizer is 0.16 and the accuracy is 91.6%"
   ]
  },
  {
   "cell_type": "markdown",
   "metadata": {},
   "source": [
    "# TF-IDF"
   ]
  },
  {
   "cell_type": "markdown",
   "metadata": {},
   "source": [
    "# Train,Test,CV"
   ]
  },
  {
   "cell_type": "code",
   "execution_count": 47,
   "metadata": {
    "collapsed": true
   },
   "outputs": [],
   "source": [
    "# split the data set into train and test\n",
    "X_tr_tf, X_test_tf, y_tr_tf, y_test_tf = cross_validation.train_test_split(sample_data['Text'], sample_labels, test_size=0.2, random_state=0)\n",
    "# split the train data set into cross validation train and cross validation test\n",
    "# X_tr_tf, X_cv_tf, y_tr_tf, y_cv_tf = cross_validation.train_test_split(X_1_tf, y_1_tf, test_size=0.3)"
   ]
  },
  {
   "cell_type": "code",
   "execution_count": 48,
   "metadata": {
    "collapsed": true
   },
   "outputs": [],
   "source": [
    "# TF-IDF on train data\n",
    "from sklearn.decomposition import TruncatedSVD\n",
    "from sklearn.random_projection import sparse_random_matrix\n",
    "\n",
    "tf_idf_vect = TfidfVectorizer(ngram_range=(1,2))\n",
    "tf_idf_vect.fit(X_tr_tf.values)\n",
    "final_tf_idf = tf_idf_vect.transform(X_tr_tf.values)"
   ]
  },
  {
   "cell_type": "code",
   "execution_count": 49,
   "metadata": {},
   "outputs": [
    {
     "name": "stdout",
     "output_type": "stream",
     "text": [
      "(80000, 1106401)\n"
     ]
    }
   ],
   "source": [
    "# Standardization of train data\n",
    "X_tr_standardized_data_tf = StandardScaler(with_mean=False).fit_transform(final_tf_idf)\n",
    "print(X_tr_standardized_data_tf.shape)"
   ]
  },
  {
   "cell_type": "code",
   "execution_count": 50,
   "metadata": {},
   "outputs": [
    {
     "name": "stdout",
     "output_type": "stream",
     "text": [
      "[0.8977374765302496, 0.89892497528060511, 0.90541248887655235, 0.8957375005924253, 0.86498748933267533, 0.84335000057605403, 0.84333750026354626]\n"
     ]
    }
   ],
   "source": [
    "C_Val = [0.001, 0.01, 0.1, 1, 10, 100, 1000]\n",
    "cv_scores_tf_idf = []\n",
    "for val in C_Val:\n",
    "    svc_reg_tf_idf = linear_model.SGDClassifier(loss='hinge',alpha=val,n_jobs=-1)\n",
    "    scores_tf = cross_val_score(svc_reg_tf_idf, X_tr_standardized_data_tf, y_tr_tf, cv=3, scoring='accuracy')\n",
    "    cv_scores_tf_idf.append(scores_tf.mean())\n",
    "print(cv_scores_tf_idf)"
   ]
  },
  {
   "cell_type": "code",
   "execution_count": 52,
   "metadata": {},
   "outputs": [
    {
     "name": "stdout",
     "output_type": "stream",
     "text": [
      "\n",
      "The optimal number of alpha is 0.100000.\n"
     ]
    }
   ],
   "source": [
    "# changing to misclassification error\n",
    "MSE_tf = [1 - x for x in cv_scores_tf_idf]\n",
    "\n",
    "# determining best k\n",
    "optimal_aplha_tf = C_Val[MSE_tf.index(min(MSE_tf))]\n",
    "print('\\nThe optimal number of alpha is %f.' % optimal_aplha_tf)"
   ]
  },
  {
   "cell_type": "code",
   "execution_count": 53,
   "metadata": {},
   "outputs": [
    {
     "data": {
      "image/png": "[encoded data removed]",
      "text/plain": [
       "<matplotlib.figure.Figure at 0x146023358>"
      ]
     },
     "metadata": {},
     "output_type": "display_data"
    },
    {
     "name": "stdout",
     "output_type": "stream",
     "text": [
      "the misclassification error for each alpha is :  [ 0.102  0.101  0.095  0.104  0.135  0.157  0.157]\n"
     ]
    }
   ],
   "source": [
    "# plot misclassification error vs alpha \n",
    "plt.plot(C_Val, MSE_tf)\n",
    "\n",
    "for xy in zip(C_Val, np.round(MSE_tf,3)):\n",
    "    plt.annotate('(%s, %s)' % xy, xy=xy, textcoords='data')\n",
    "\n",
    "plt.xlabel('Number of aplha points')\n",
    "plt.ylabel('Misclassification Error')\n",
    "plt.title('MSE')\n",
    "plt.show()\n",
    "\n",
    "print(\"the misclassification error for each alpha is : \", np.round(MSE_tf,3))"
   ]
  },
  {
   "cell_type": "code",
   "execution_count": 56,
   "metadata": {},
   "outputs": [
    {
     "name": "stdout",
     "output_type": "stream",
     "text": [
      "(20000, 1106401)\n"
     ]
    }
   ],
   "source": [
    "# Applying the vectors of train data on the test data\n",
    "\n",
    "final_counts_x_test = tf_idf_vect.transform(X_test_tf.values)\n",
    "standardized_data_X_test_tf = StandardScaler(with_mean=False).fit_transform(final_counts_x_test)\n",
    "print(standardized_data_X_test_tf.shape)"
   ]
  },
  {
   "cell_type": "code",
   "execution_count": 57,
   "metadata": {},
   "outputs": [
    {
     "name": "stdout",
     "output_type": "stream",
     "text": [
      "\n",
      "The accuracy of the SGD with hinge loss for alpha = 0.100000 is 91.380000%\n"
     ]
    }
   ],
   "source": [
    "# instantiate learning model k = optimal_k\n",
    "svc_reg_optimal_tf = linear_model.SGDClassifier(loss='hinge',alpha=optimal_aplha_tf,n_jobs=-1)\n",
    "\n",
    "# fitting the model\n",
    "svc_reg_optimal_tf.fit(X_tr_standardized_data_tf, y_tr_tf)\n",
    "\n",
    "# predict the response\n",
    "pred_tf = svc_reg_optimal_tf.predict(standardized_data_X_test_tf)\n",
    "\n",
    "# evaluate accuracy\n",
    "acc_tf = accuracy_score(y_test_tf, pred_tf) * 100\n",
    "print('\\nThe accuracy of the SGD with hinge loss for alpha = %f is %f%%' % (optimal_aplha_tf, acc_tf))"
   ]
  },
  {
   "cell_type": "markdown",
   "metadata": {},
   "source": [
    "# GridSearch TF-IDF"
   ]
  },
  {
   "cell_type": "code",
   "execution_count": 58,
   "metadata": {},
   "outputs": [
    {
     "name": "stdout",
     "output_type": "stream",
     "text": [
      "SGDClassifier(alpha=0.01, average=False, class_weight=None, epsilon=0.1,\n",
      "       eta0=0.0, fit_intercept=True, l1_ratio=0.15,\n",
      "       learning_rate='optimal', loss='hinge', n_iter=5, n_jobs=-1,\n",
      "       penalty='l2', power_t=0.5, random_state=None, shuffle=True,\n",
      "       verbose=0, warm_start=False)\n"
     ]
    }
   ],
   "source": [
    "from sklearn.grid_search import GridSearchCV\n",
    "from sklearn.linear_model import LogisticRegression\n",
    "tuned_parameters = [{'alpha': [10**-4, 10**-2, 10**0, 10**2, 10**4]}]\n",
    "model_tf = GridSearchCV(linear_model.SGDClassifier(loss='hinge',n_jobs=-1), tuned_parameters, scoring = 'accuracy', cv=5)\n",
    "model_tf.fit(X_tr_standardized_data_tf, y_tr_tf)\n",
    "print(model_tf.best_estimator_)"
   ]
  },
  {
   "cell_type": "code",
   "execution_count": 59,
   "metadata": {},
   "outputs": [
    {
     "name": "stdout",
     "output_type": "stream",
     "text": [
      "0.90545\n"
     ]
    }
   ],
   "source": [
    "print(model_tf.score(standardized_data_X_test_tf, y_test_tf))"
   ]
  },
  {
   "cell_type": "raw",
   "metadata": {},
   "source": [
    "Report:\n",
    "    The optimal alpha when used GridSearchCV with L2 regularizer is 0.01 and the accuracy is 90.5%"
   ]
  },
  {
   "cell_type": "markdown",
   "metadata": {},
   "source": [
    "# RandomSearchCV TF-IDF"
   ]
  },
  {
   "cell_type": "code",
   "execution_count": 60,
   "metadata": {},
   "outputs": [
    {
     "name": "stdout",
     "output_type": "stream",
     "text": [
      "SGDClassifier(alpha=0.30979510641074892, average=False, class_weight=None,\n",
      "       epsilon=0.1, eta0=0.0, fit_intercept=True, l1_ratio=0.15,\n",
      "       learning_rate='optimal', loss='hinge', n_iter=5, n_jobs=-1,\n",
      "       penalty='l2', power_t=0.5, random_state=None, shuffle=True,\n",
      "       verbose=0, warm_start=False)\n"
     ]
    }
   ],
   "source": [
    "from sklearn.model_selection import RandomizedSearchCV\n",
    "from scipy.stats import uniform\n",
    "tuned_parameters = {'alpha': uniform.rvs(size=10)}\n",
    "model_rand_l2_tf = RandomizedSearchCV(linear_model.SGDClassifier(loss='hinge',n_jobs=-1), tuned_parameters, scoring = 'accuracy', cv=5)\n",
    "model_rand_l2_tf.fit(X_tr_standardized_data_tf, y_tr_tf)\n",
    "print(model_rand_l2_tf.best_estimator_)"
   ]
  },
  {
   "cell_type": "code",
   "execution_count": 61,
   "metadata": {},
   "outputs": [
    {
     "name": "stdout",
     "output_type": "stream",
     "text": [
      "0.92015\n"
     ]
    }
   ],
   "source": [
    "print(model_rand_l2_tf.score(standardized_data_X_test_tf, y_test_tf))"
   ]
  },
  {
   "cell_type": "raw",
   "metadata": {},
   "source": [
    "Report:\n",
    "    The optimal lambda when used RandomSearchCV with L2 regularizer is 0.30 and the accuracy is 92%"
   ]
  },
  {
   "cell_type": "markdown",
   "metadata": {},
   "source": [
    "# W2V"
   ]
  },
  {
   "cell_type": "code",
   "execution_count": 62,
   "metadata": {},
   "outputs": [
    {
     "name": "stdout",
     "output_type": "stream",
     "text": [
      "<gensim.models.keyedvectors.Word2VecKeyedVectors object at 0x1115a8b00>\n"
     ]
    }
   ],
   "source": [
    "# Using Google News Word2Vectors\n",
    "from gensim.models import Word2Vec\n",
    "from gensim.models import KeyedVectors\n",
    "import pickle\n",
    "model = KeyedVectors.load_word2vec_format('GoogleNews-vectors-negative300.bin', binary=True)\n",
    "print(model)"
   ]
  },
  {
   "cell_type": "code",
   "execution_count": 63,
   "metadata": {},
   "outputs": [
    {
     "data": {
      "text/plain": [
       "0.76640123"
      ]
     },
     "execution_count": 63,
     "metadata": {},
     "output_type": "execute_result"
    }
   ],
   "source": [
    "model.wv.similarity('woman', 'man')"
   ]
  },
  {
   "cell_type": "code",
   "execution_count": 64,
   "metadata": {
    "collapsed": true
   },
   "outputs": [],
   "source": [
    "import re\n",
    "import string\n",
    "from nltk.corpus import stopwords\n",
    "from nltk.stem import PorterStemmer\n",
    "from nltk.stem.wordnet import WordNetLemmatizer\n",
    "\n",
    "stop = set(stopwords.words('english')) #set of stopwords\n",
    "sno = nltk.stem.SnowballStemmer('english') #initialising the snowball stemmer\n",
    "\n",
    "def cleanhtml(sentence): #function to clean the word of any html-tags\n",
    "    cleanr = re.compile('<.*?>')\n",
    "    cleantext = re.sub(cleanr, ' ', sentence)\n",
    "    return cleantext\n",
    "def cleanpunc(sentence): #function to clean the word of any punctuation or special characters\n",
    "    cleaned = re.sub(r'[?|!|\\'|\"|#]',r'',sentence)\n",
    "    cleaned = re.sub(r'[.|,|)|(|\\|/]',r' ',cleaned)\n",
    "    return  cleaned"
   ]
  },
  {
   "cell_type": "code",
   "execution_count": 65,
   "metadata": {},
   "outputs": [
    {
     "name": "stdout",
     "output_type": "stream",
     "text": [
      "100000\n"
     ]
    }
   ],
   "source": [
    "# Train your own Word2Vec model using your own text corpus\n",
    "import gensim\n",
    "i=0\n",
    "list_of_sent=[]\n",
    "for sent in sample_data['Text'].values:\n",
    "    filtered_sentence=[]\n",
    "    sent=cleanhtml(sent)\n",
    "    for w in sent.split():\n",
    "        for cleaned_words in cleanpunc(w).split():\n",
    "            if(cleaned_words.isalpha()):    \n",
    "                filtered_sentence.append(cleaned_words.lower())\n",
    "            else:\n",
    "                continue \n",
    "    list_of_sent.append(filtered_sentence)\n",
    "print(len(list_of_sent))"
   ]
  },
  {
   "cell_type": "code",
   "execution_count": 66,
   "metadata": {},
   "outputs": [
    {
     "name": "stdout",
     "output_type": "stream",
     "text": [
      "I love this baby food.  I'd eat it.  Its safe, healthy, simple ingredients - just blueberries and apples.  Baby loves too.  And the packaging makes it easy to transport\n",
      "*****************************************************************\n",
      "['i', 'love', 'this', 'baby', 'food', 'id', 'eat', 'it', 'its', 'safe', 'healthy', 'simple', 'ingredients', 'just', 'blueberries', 'and', 'apples', 'baby', 'loves', 'too', 'and', 'the', 'packaging', 'makes', 'it', 'easy', 'to', 'transport']\n"
     ]
    }
   ],
   "source": [
    "print(sample_data['Text'].values[0])\n",
    "print(\"*****************************************************************\")\n",
    "print(list_of_sent[0])"
   ]
  },
  {
   "cell_type": "code",
   "execution_count": 67,
   "metadata": {},
   "outputs": [
    {
     "data": {
      "text/plain": [
       "gensim.models.word2vec.Word2Vec"
      ]
     },
     "execution_count": 67,
     "metadata": {},
     "output_type": "execute_result"
    }
   ],
   "source": [
    "w2v_model=gensim.models.Word2Vec(list_of_sent,min_count=5,size=50, workers=4)\n",
    "type(w2v_model)"
   ]
  },
  {
   "cell_type": "code",
   "execution_count": 68,
   "metadata": {},
   "outputs": [
    {
     "name": "stdout",
     "output_type": "stream",
     "text": [
      "19121\n"
     ]
    }
   ],
   "source": [
    "words = list(w2v_model.wv.vocab)\n",
    "print(len(words))"
   ]
  },
  {
   "cell_type": "markdown",
   "metadata": {},
   "source": [
    "# Average W2V"
   ]
  },
  {
   "cell_type": "code",
   "execution_count": 84,
   "metadata": {
    "collapsed": true
   },
   "outputs": [],
   "source": [
    "def create_features(list_of_sent):\n",
    "    # average Word2Vec\n",
    "    # compute average word2vec for each review.\n",
    "    sent_vectors = [] # the avg-w2v for each sentence/review is stored in this list\n",
    "    for sent in list_of_sent: # for each review/sentence\n",
    "        sent_vec = np.zeros(50) # as word vectors are of zero length\n",
    "        cnt_words =0 # num of words with a valid vector in the sentence/review\n",
    "        for word in sent: # for each word in a review/sentence\n",
    "            try:\n",
    "                vec = w2v_model.wv[word]\n",
    "                sent_vec += vec\n",
    "                cnt_words += 1\n",
    "            except:\n",
    "                pass\n",
    "        sent_vec /= cnt_words\n",
    "        sent_vectors.append(sent_vec)\n",
    "    return sent_vectors"
   ]
  },
  {
   "cell_type": "markdown",
   "metadata": {},
   "source": [
    "# Train,CV,Test - AvgW2V"
   ]
  },
  {
   "cell_type": "code",
   "execution_count": 69,
   "metadata": {
    "collapsed": true
   },
   "outputs": [],
   "source": [
    "# split the data set into train and test\n",
    "X_tr_w2v, X_test_w2v, y_tr_w2v, y_test_w2v = cross_validation.train_test_split(list_of_sent, sample_labels, test_size=0.2, random_state=0)\n",
    "\n",
    "# split the train data set into cross validation train and cross validation test\n",
    "X_tr_w2v, X_cv_w2v, y_tr_w2v, y_cv_w2v = cross_validation.train_test_split(X_1_w2v, y_1_w2v, test_size=0.2)"
   ]
  },
  {
   "cell_type": "code",
   "execution_count": 82,
   "metadata": {
    "collapsed": true
   },
   "outputs": [],
   "source": [
    "# Applying the vectorizations on train data\n",
    "sent_vectors_x_tr_df = create_features(X_tr_w2v)"
   ]
  },
  {
   "cell_type": "code",
   "execution_count": 75,
   "metadata": {},
   "outputs": [
    {
     "name": "stdout",
     "output_type": "stream",
     "text": [
      "[0.84333750026354626, 0.84333750026354626, 0.84333750026354626, 0.84333750026354626, 0.84333750026354626, 0.84333750026354626, 0.84333750026354626]\n"
     ]
    }
   ],
   "source": [
    "C_Val = [0.001, 0.01, 0.1, 1, 10, 100, 1000]\n",
    "cv_scores_w2v = []\n",
    "for val in C_Val:\n",
    "    svc_reg_w2v = linear_model.SGDClassifier(loss='hinge',alpha=val,n_jobs=-1)\n",
    "    scores_w2v = cross_val_score(svc_reg_w2v, sent_vectors_x_tr_df, y_tr_w2v, cv=3, scoring='accuracy')\n",
    "    cv_scores_w2v.append(scores_w2v.mean())\n",
    "print(cv_scores_w2v)"
   ]
  },
  {
   "cell_type": "code",
   "execution_count": 76,
   "metadata": {},
   "outputs": [
    {
     "name": "stdout",
     "output_type": "stream",
     "text": [
      "\n",
      "The optimal number of alpha is 0.001000.\n"
     ]
    }
   ],
   "source": [
    "# changing to misclassification error\n",
    "MSE_w2v = [1 - x for x in cv_scores_w2v]\n",
    "\n",
    "# determining best k\n",
    "optimal_aplha_w2v = C_Val[MSE_w2v.index(min(MSE_w2v))]\n",
    "print('\\nThe optimal number of alpha is %f.' % optimal_aplha_w2v)"
   ]
  },
  {
   "cell_type": "code",
   "execution_count": 77,
   "metadata": {},
   "outputs": [
    {
     "data": {
      "image/png": "[encoded data removed]",
      "text/plain": [
       "<matplotlib.figure.Figure at 0x29487bc50>"
      ]
     },
     "metadata": {},
     "output_type": "display_data"
    },
    {
     "name": "stdout",
     "output_type": "stream",
     "text": [
      "the misclassification error for each alpha is :  [ 0.157  0.157  0.157  0.157  0.157  0.157  0.157]\n"
     ]
    }
   ],
   "source": [
    "# plot misclassification error vs alpha \n",
    "plt.plot(C_Val, MSE_w2v)\n",
    "\n",
    "for xy in zip(C_Val, np.round(MSE_w2v,3)):\n",
    "    plt.annotate('(%s, %s)' % xy, xy=xy, textcoords='data')\n",
    "\n",
    "plt.xlabel('Number of aplha points')\n",
    "plt.ylabel('Misclassification Error')\n",
    "plt.title('MSE')\n",
    "plt.show()\n",
    "\n",
    "print(\"the misclassification error for each alpha is : \", np.round(MSE_w2v,3))"
   ]
  },
  {
   "cell_type": "code",
   "execution_count": 81,
   "metadata": {},
   "outputs": [
    {
     "name": "stdout",
     "output_type": "stream",
     "text": [
      "\n",
      "The accuracy of the SGD with hinge loss for C = 0.001000 is 84.610000%\n"
     ]
    }
   ],
   "source": [
    "sent_vectors_x_test_df = create_features(X_test_w2v) # Applying the vectorizations on test data\n",
    "\n",
    "svc_reg_optimal_w2v = linear_model.SGDClassifier(loss='hinge',alpha=optimal_aplha_w2v,n_jobs=-1) # instantiate learning model k = optimal_k\n",
    "\n",
    "# fitting the model\n",
    "svc_reg_optimal_w2v.fit(sent_vectors_x_tr_df, y_tr_w2v)\n",
    "\n",
    "# predict the response\n",
    "pred_w2v = svc_reg_optimal_w2v.predict(sent_vectors_x_test_df)\n",
    "\n",
    "# evaluate accuracy\n",
    "acc_w2v = accuracy_score(y_test_w2v, pred_w2v) * 100\n",
    "print('\\nThe accuracy of the SGD with hinge loss for C = %f is %f%%' % (optimal_aplha_w2v, acc_w2v))"
   ]
  },
  {
   "cell_type": "markdown",
   "metadata": {},
   "source": [
    "# GridSearch Avg W2V"
   ]
  },
  {
   "cell_type": "code",
   "execution_count": 85,
   "metadata": {},
   "outputs": [
    {
     "name": "stdout",
     "output_type": "stream",
     "text": [
      "SGDClassifier(alpha=0.0001, average=False, class_weight=None, epsilon=0.1,\n",
      "       eta0=0.0, fit_intercept=True, l1_ratio=0.15,\n",
      "       learning_rate='optimal', loss='hinge', n_iter=5, n_jobs=-1,\n",
      "       penalty='l2', power_t=0.5, random_state=None, shuffle=True,\n",
      "       verbose=0, warm_start=False)\n"
     ]
    }
   ],
   "source": [
    "from sklearn.grid_search import GridSearchCV\n",
    "from sklearn.linear_model import LogisticRegression\n",
    "tuned_parameters = [{'alpha': [10**-4, 10**-2, 10**0, 10**2, 10**4]}]\n",
    "model_w2v_l2 = GridSearchCV(linear_model.SGDClassifier(loss='hinge',n_jobs=-1), tuned_parameters, scoring = 'accuracy', cv=5)\n",
    "model_w2v_l2.fit(sent_vectors_x_tr_df, y_tr_w2v)\n",
    "print(model_w2v_l2.best_estimator_)"
   ]
  },
  {
   "cell_type": "code",
   "execution_count": 87,
   "metadata": {},
   "outputs": [
    {
     "name": "stdout",
     "output_type": "stream",
     "text": [
      "0.8461\n"
     ]
    }
   ],
   "source": [
    "print(model_w2v_l2.score(sent_vectors_x_test_df, y_test_w2v))"
   ]
  },
  {
   "cell_type": "raw",
   "metadata": {},
   "source": [
    "Report:\n",
    "    The optimal alpha when used GridSearchCV with L2 regularizer is 0.0001 and the accuracy is 84.6%"
   ]
  },
  {
   "cell_type": "markdown",
   "metadata": {},
   "source": [
    "# RandomSearchCV Avg W2V"
   ]
  },
  {
   "cell_type": "code",
   "execution_count": 88,
   "metadata": {},
   "outputs": [
    {
     "name": "stdout",
     "output_type": "stream",
     "text": [
      "SGDClassifier(alpha=0.42469348089825343, average=False, class_weight=None,\n",
      "       epsilon=0.1, eta0=0.0, fit_intercept=True, l1_ratio=0.15,\n",
      "       learning_rate='optimal', loss='hinge', n_iter=5, n_jobs=-1,\n",
      "       penalty='l2', power_t=0.5, random_state=None, shuffle=True,\n",
      "       verbose=0, warm_start=False)\n"
     ]
    }
   ],
   "source": [
    "from sklearn.model_selection import RandomizedSearchCV\n",
    "from scipy.stats import uniform\n",
    "tuned_parameters = {'alpha': uniform.rvs(size=10)}\n",
    "model_rand_l2_w2v = RandomizedSearchCV(linear_model.SGDClassifier(loss='hinge',n_jobs=-1), tuned_parameters, scoring = 'accuracy', cv=5)\n",
    "model_rand_l2_w2v.fit(sent_vectors_x_tr_df, y_tr_w2v)\n",
    "print(model_rand_l2_w2v.best_estimator_)"
   ]
  },
  {
   "cell_type": "code",
   "execution_count": 89,
   "metadata": {},
   "outputs": [
    {
     "name": "stdout",
     "output_type": "stream",
     "text": [
      "0.8461\n"
     ]
    }
   ],
   "source": [
    "print(model_rand_l2_w2v.score(sent_vectors_x_test_df, y_test_w2v))"
   ]
  },
  {
   "cell_type": "raw",
   "metadata": {},
   "source": [
    "Report:\n",
    "    The optimal alpha when used RandomSearchCV with L2 regularizer is 0.42 and the accuracy is 84.6%"
   ]
  },
  {
   "cell_type": "markdown",
   "metadata": {},
   "source": [
    "# Avg TF-IDF"
   ]
  },
  {
   "cell_type": "code",
   "execution_count": 21,
   "metadata": {
    "collapsed": true
   },
   "outputs": [],
   "source": [
    "def create_features_tfidf(_list):\n",
    "    # TF-IDF weighted Word2Vec\n",
    "    tfidf_feat = tf_idf_vect.get_feature_names() # tfidf words/col-names\n",
    "    # final_tf_idf is the sparse matrix with row= sentence, col=word and cell_val = tfidf\n",
    "\n",
    "    tfidf_sent_vectors = []; # the tfidf-w2v for each sentence/review is stored in this list\n",
    "    row=0;\n",
    "    for sent in _list: # for each review/sentence\n",
    "        sent_vec = np.zeros(50) # as word vectors are of zero length\n",
    "        weight_sum =0; # num of words with a valid vector in the sentence/review\n",
    "        for word in sent: # for each word in a review/sentence\n",
    "            try:\n",
    "                vec = w2v_model.wv[word]\n",
    "                # obtain the tf_idfidf of a word in a sentence/review\n",
    "                tfidf = final_tf_idf[row, tfidf_feat.index(word)]\n",
    "                sent_vec = sent_vec + (vec * tfidf)\n",
    "                weight_sum = weight_sum + tfidf\n",
    "            except:\n",
    "                pass\n",
    "        sent_vec /= weight_sum\n",
    "        tfidf_sent_vectors.append(sent_vec)\n",
    "        row += 1\n",
    "    return tfidf_sent_vectors"
   ]
  },
  {
   "cell_type": "code",
   "execution_count": 22,
   "metadata": {},
   "outputs": [
    {
     "name": "stdout",
     "output_type": "stream",
     "text": [
      "[ 0.1756306   0.69692612  0.08762204 -0.35830659 -0.55909844  0.17582064\n",
      " -0.43116279 -0.05661697  0.06295889  0.10089796 -0.21429689  0.29259416\n",
      " -0.38610196 -0.02007107  0.72979774 -0.10237062  0.84388899  0.08463709\n",
      "  0.34623604 -0.36628136  0.16881919  0.32137898 -0.46955014 -0.21723684\n",
      " -0.18011148  0.87924615 -0.11992223  0.14479833 -0.72088958 -0.1736038\n",
      "  0.12333141  0.88541261 -0.26321695  0.18994207  0.35951235  0.27374897\n",
      " -0.06206582  0.22450838 -0.09168883 -0.02519022  0.23962953  0.53806902\n",
      " -0.0834373   0.07910254 -0.20000786 -0.02653607  0.26397292  0.24843445\n",
      "  0.28820519 -0.10636187]\n"
     ]
    }
   ],
   "source": [
    "print(tfidf_sent_vectors[0])"
   ]
  },
  {
   "cell_type": "markdown",
   "metadata": {},
   "source": [
    "# Train,CV,Test - AvgTF-IDF"
   ]
  },
  {
   "cell_type": "code",
   "execution_count": 97,
   "metadata": {
    "collapsed": true
   },
   "outputs": [],
   "source": [
    "# split the data set into train and test\n",
    "X_1_avg_tf, X_test_avg_tf, y_1_avg_tf, y_test_avg_tf = cross_validation.train_test_split(list_of_sent, sample_labels, test_size=0.3, random_state=0)\n",
    "\n",
    "\n",
    "# split the train data set into cross validation train and cross validation test\n",
    "X_tr_avg_tf, X_cv_avg_tf, y_tr_avg_tf, y_cv_avg_tf = cross_validation.train_test_split(X_1_avg_tf, y_1_avg_tf, test_size=0.3)"
   ]
  },
  {
   "cell_type": "code",
   "execution_count": 126,
   "metadata": {
    "collapsed": true
   },
   "outputs": [],
   "source": [
    "# Applying weighted w2v tf-idf vectorziations on train data\n",
    "sent_vectors_x_tr_avg_tf = create_features_tfidf(X_tr_avg_tf)"
   ]
  },
  {
   "cell_type": "code",
   "execution_count": 106,
   "metadata": {},
   "outputs": [
    {
     "name": "stdout",
     "output_type": "stream",
     "text": [
      "[0.84391836305208134, 0.84412244884975074, 0.84412244884975074, 0.84412244884975074, 0.84412244884975074, 0.84412244884975074, 0.84412244884975074]\n"
     ]
    }
   ],
   "source": [
    "C_Val = [0.001, 0.01, 0.1, 1, 10, 100, 1000]\n",
    "cv_scores_avg_tf = []\n",
    "for val in C_Val:\n",
    "    svc_reg_avg_tf = linear_model.SGDClassifier(loss='hinge',alpha=val,n_jobs=-1)\n",
    "    scores_avg_tf = cross_val_score(svc_reg_avg_tf,sent_vectors_x_tr_avg_tf, y_tr_avg_tf, cv=3, scoring='accuracy')\n",
    "    cv_scores_avg_tf.append(scores_avg_tf.mean())\n",
    "print(cv_scores_avg_tf)"
   ]
  },
  {
   "cell_type": "code",
   "execution_count": 107,
   "metadata": {},
   "outputs": [
    {
     "name": "stdout",
     "output_type": "stream",
     "text": [
      "\n",
      "The optimal number of alpha is 0.010000.\n"
     ]
    }
   ],
   "source": [
    "# changing to misclassification error\n",
    "MSE_avg_tf = [1 - x for x in cv_scores_avg_tf]\n",
    "\n",
    "# determining best k\n",
    "optimal_aplha_avg_tf = C_Val[MSE_avg_tf.index(min(MSE_avg_tf))]\n",
    "print('\\nThe optimal number of alpha is %f.' % optimal_aplha_avg_tf)"
   ]
  },
  {
   "cell_type": "code",
   "execution_count": 108,
   "metadata": {},
   "outputs": [
    {
     "data": {
      "image/png": "[encoded data removed]",
      "text/plain": [
       "<matplotlib.figure.Figure at 0x2aa298c88>"
      ]
     },
     "metadata": {},
     "output_type": "display_data"
    },
    {
     "name": "stdout",
     "output_type": "stream",
     "text": [
      "the misclassification error for each alpha is :  [ 0.156  0.156  0.156  0.156  0.156  0.156  0.156]\n"
     ]
    }
   ],
   "source": [
    "# plot misclassification error vs alpha \n",
    "plt.plot(C_Val, MSE_avg_tf)\n",
    "\n",
    "for xy in zip(C_Val, np.round(MSE_avg_tf,3)):\n",
    "    plt.annotate('(%s, %s)' % xy, xy=xy, textcoords='data')\n",
    "\n",
    "plt.xlabel('Number of aplha points')\n",
    "plt.ylabel('Misclassification Error')\n",
    "plt.title('MSE')\n",
    "plt.show()\n",
    "\n",
    "print(\"the misclassification error for each alpha is : \", np.round(MSE_avg_tf,3))"
   ]
  },
  {
   "cell_type": "code",
   "execution_count": 119,
   "metadata": {},
   "outputs": [
    {
     "name": "stdout",
     "output_type": "stream",
     "text": [
      "\n",
      "The accuracy of the SGD with hinge loss for C = 0.010000 is 84.353333%\n"
     ]
    }
   ],
   "source": [
    "sent_vectors_x_test_avg_tf = create_features_tfidf(X_test_w2v) # Applying weighted w2v tf-idf vectorziations on test data\n",
    "\n",
    "# instantiate learning model k = optimal_k\n",
    "svc_reg_optimal_tf = linear_model.SGDClassifier(loss='hinge',alpha=optimal_aplha_avg_tf,n_jobs=-1)\n",
    "\n",
    "# fitting the model\n",
    "svc_reg_optimal_tf.fit(sent_vectors_x_tr_avg_tf, y_tr_avg_tf)\n",
    "\n",
    "# predict the response\n",
    "pred_avg_tf = svc_reg_optimal_tf.predict(sent_vectors_x_test_avg_tf)\n",
    "\n",
    "# evaluate accuracy\n",
    "acc_avg_tf = accuracy_score(y_test_avg_tf, pred_avg_tf) * 100\n",
    "print('\\nThe accuracy of the SGD with hinge loss for C = %f is %f%%' % (optimal_aplha_avg_tf, acc_avg_tf))"
   ]
  },
  {
   "cell_type": "markdown",
   "metadata": {},
   "source": [
    "# GridSearch Avg TF-IDF"
   ]
  },
  {
   "cell_type": "code",
   "execution_count": 113,
   "metadata": {},
   "outputs": [
    {
     "name": "stdout",
     "output_type": "stream",
     "text": [
      "SGDClassifier(alpha=0.01, average=False, class_weight=None, epsilon=0.1,\n",
      "       eta0=0.0, fit_intercept=True, l1_ratio=0.15,\n",
      "       learning_rate='optimal', loss='hinge', n_iter=5, n_jobs=-1,\n",
      "       penalty='l2', power_t=0.5, random_state=None, shuffle=True,\n",
      "       verbose=0, warm_start=False)\n"
     ]
    }
   ],
   "source": [
    "from sklearn.grid_search import GridSearchCV\n",
    "from sklearn.linear_model import LogisticRegression\n",
    "tuned_parameters = [{'alpha': [10**-4, 10**-2, 10**0, 10**2, 10**4]}]\n",
    "model_avg_tf_l2 = GridSearchCV(linear_model.SGDClassifier(loss='hinge',n_jobs=-1), tuned_parameters, scoring = 'accuracy', cv=5)\n",
    "model_avg_tf_l2.fit(sent_vectors_x_tr_avg_tf, y_tr_avg_tf)\n",
    "print(model_avg_tf_l2.best_estimator_)"
   ]
  },
  {
   "cell_type": "code",
   "execution_count": 114,
   "metadata": {},
   "outputs": [
    {
     "name": "stdout",
     "output_type": "stream",
     "text": [
      "0.843533333333\n"
     ]
    }
   ],
   "source": [
    "print(model_avg_tf_l2.score(sent_vectors_x_test_avg_tf, y_test_avg_tf))"
   ]
  },
  {
   "cell_type": "raw",
   "metadata": {},
   "source": [
    "Report:\n",
    "    The optimal alpha when used GridSearchCV with L2 regularizer is 0.01 and the accuracy is 84.35%"
   ]
  },
  {
   "cell_type": "markdown",
   "metadata": {},
   "source": [
    "# RandomSearchCV AVG TF-IDF"
   ]
  },
  {
   "cell_type": "code",
   "execution_count": 115,
   "metadata": {},
   "outputs": [
    {
     "name": "stdout",
     "output_type": "stream",
     "text": [
      "SGDClassifier(alpha=0.51414508718348462, average=False, class_weight=None,\n",
      "       epsilon=0.1, eta0=0.0, fit_intercept=True, l1_ratio=0.15,\n",
      "       learning_rate='optimal', loss='hinge', n_iter=5, n_jobs=-1,\n",
      "       penalty='l2', power_t=0.5, random_state=None, shuffle=True,\n",
      "       verbose=0, warm_start=False)\n"
     ]
    }
   ],
   "source": [
    "from sklearn.model_selection import RandomizedSearchCV\n",
    "from scipy.stats import uniform\n",
    "tuned_parameters = {'alpha': uniform.rvs(size=10)}\n",
    "model_rand_l2_avg_tf = RandomizedSearchCV(linear_model.SGDClassifier(loss='hinge',n_jobs=-1), tuned_parameters, scoring = 'accuracy', cv=5)\n",
    "model_rand_l2_avg_tf.fit(sent_vectors_x_tr_avg_tf, y_tr_avg_tf)\n",
    "print(model_rand_l2_avg_tf.best_estimator_)"
   ]
  },
  {
   "cell_type": "code",
   "execution_count": 116,
   "metadata": {},
   "outputs": [
    {
     "name": "stdout",
     "output_type": "stream",
     "text": [
      "0.843533333333\n"
     ]
    }
   ],
   "source": [
    "print(model_rand_l2_avg_tf.score(sent_vectors_x_test_avg_tf, y_test_avg_tf))"
   ]
  },
  {
   "cell_type": "raw",
   "metadata": {},
   "source": [
    "Report:\n",
    "    The optimal alpha when used RandomSearchCV with L2 regularizer is 0.51 and the accuracy is 84.35%"
   ]
  },
  {
   "cell_type": "raw",
   "metadata": {},
   "source": [
    "Final Report : "
   ]
  },
  {
   "cell_type": "code",
   "execution_count": 125,
   "metadata": {},
   "outputs": [
    {
     "data": {
      "text/html": [
       "<div>\n",
       "<style>\n",
       "    .dataframe thead tr:only-child th {\n",
       "        text-align: right;\n",
       "    }\n",
       "\n",
       "    .dataframe thead th {\n",
       "        text-align: left;\n",
       "    }\n",
       "\n",
       "    .dataframe tbody tr th {\n",
       "        vertical-align: top;\n",
       "    }\n",
       "</style>\n",
       "<table border=\"1\" class=\"dataframe\">\n",
       "  <thead>\n",
       "    <tr style=\"text-align: right;\">\n",
       "      <th></th>\n",
       "      <th>AA-features</th>\n",
       "      <th>Alpha-Accuracy-Error</th>\n",
       "      <th>GridSearch Alpha - Accuracy - Error</th>\n",
       "      <th>RandomSearch Alpha - Accuracy - Error</th>\n",
       "    </tr>\n",
       "  </thead>\n",
       "  <tbody>\n",
       "    <tr>\n",
       "      <th>0</th>\n",
       "      <td>BOW</td>\n",
       "      <td>0.100000-91.4%-8.6%</td>\n",
       "      <td>1-90.3%-9.7%</td>\n",
       "      <td>0.16-91.61%-8.4%</td>\n",
       "    </tr>\n",
       "    <tr>\n",
       "      <th>1</th>\n",
       "      <td>TF-IDF</td>\n",
       "      <td>0.1-91.38%-8.7%</td>\n",
       "      <td>0.01-90.5%-9.5%</td>\n",
       "      <td>0.38-92%-8%</td>\n",
       "    </tr>\n",
       "    <tr>\n",
       "      <th>2</th>\n",
       "      <td>Avg-W2V</td>\n",
       "      <td>0.001-84.6%-13.4%</td>\n",
       "      <td>0.0001-84.6%-13.4%</td>\n",
       "      <td>0.42-84.6%-13.4%</td>\n",
       "    </tr>\n",
       "    <tr>\n",
       "      <th>3</th>\n",
       "      <td>Avg-TFIDF</td>\n",
       "      <td>0.01,84.35%,15.65%</td>\n",
       "      <td>0.01-84.35%-15.65%</td>\n",
       "      <td>0.51-84.35%-15.65%</td>\n",
       "    </tr>\n",
       "  </tbody>\n",
       "</table>\n",
       "</div>"
      ],
      "text/plain": [
       "  AA-features Alpha-Accuracy-Error GridSearch Alpha - Accuracy - Error  \\\n",
       "0         BOW  0.100000-91.4%-8.6%                        1-90.3%-9.7%   \n",
       "1      TF-IDF      0.1-91.38%-8.7%                     0.01-90.5%-9.5%   \n",
       "2     Avg-W2V    0.001-84.6%-13.4%                  0.0001-84.6%-13.4%   \n",
       "3   Avg-TFIDF   0.01,84.35%,15.65%                  0.01-84.35%-15.65%   \n",
       "\n",
       "  RandomSearch Alpha - Accuracy - Error  \n",
       "0                      0.16-91.61%-8.4%  \n",
       "1                           0.38-92%-8%  \n",
       "2                      0.42-84.6%-13.4%  \n",
       "3                    0.51-84.35%-15.65%  "
      ]
     },
     "execution_count": 125,
     "metadata": {},
     "output_type": "execute_result"
    }
   ],
   "source": [
    "from ipywidgets import *\n",
    "df = pd.DataFrame({\"AA-features\":[\"BOW\",\"TF-IDF\",\"Avg-W2V\",\"Avg-TFIDF\"],\"Alpha-Accuracy-Error\":[\"0.100000-91.4%-8.6%\",\"0.1-91.38%-8.7%\",\"0.001-84.6%-13.4%\",\"0.01,84.35%,15.65%\"], \"GridSearch Alpha - Accuracy - Error\":[\"1-90.3%-9.7%\",\"0.01-90.5%-9.5%\",\"0.0001-84.6%-13.4%\",\"0.01-84.35%-15.65%\"], \"RandomSearch Alpha - Accuracy - Error\":[\"0.16-91.61%-8.4%\",\"0.38-92%-8%\",\"0.42-84.6%-13.4%\",\"0.51-84.35%-15.65%\"]})\n",
    "df"
   ]
  },
  {
   "cell_type": "code",
   "execution_count": null,
   "metadata": {
    "collapsed": true
   },
   "outputs": [],
   "source": []
  }
 ],
 "metadata": {
  "kernelspec": {
   "display_name": "Python 3",
   "language": "python",
   "name": "python3"
  },
  "language_info": {
   "codemirror_mode": {
    "name": "ipython",
    "version": 3
   },
   "file_extension": ".py",
   "mimetype": "text/x-python",
   "name": "python",
   "nbconvert_exporter": "python",
   "pygments_lexer": "ipython3",
   "version": "3.6.1"
  }
 },
 "nbformat": 4,
 "nbformat_minor": 2
}
